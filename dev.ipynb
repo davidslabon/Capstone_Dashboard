{
 "metadata": {
  "language_info": {
   "codemirror_mode": {
    "name": "ipython",
    "version": 3
   },
   "file_extension": ".py",
   "mimetype": "text/x-python",
   "name": "python",
   "nbconvert_exporter": "python",
   "pygments_lexer": "ipython3",
   "version": "3.8.3-final"
  },
  "orig_nbformat": 2,
  "kernelspec": {
   "name": "Python 3.8.3 64-bit ('venv': venv)",
   "display_name": "Python 3.8.3 64-bit ('venv': venv)",
   "metadata": {
    "interpreter": {
     "hash": "b3b17fe975ddf2dd0da0130e3ffd26b5ec7c29b380370fdbbb5db22560381f8c"
    }
   }
  }
 },
 "nbformat": 4,
 "nbformat_minor": 2,
 "cells": [
  {
   "cell_type": "code",
   "execution_count": 1,
   "metadata": {},
   "outputs": [],
   "source": [
    "import pandas as pd"
   ]
  },
  {
   "cell_type": "code",
   "execution_count": 37,
   "metadata": {},
   "outputs": [],
   "source": [
    "odf = pd.read_pickle(\"datasets/dummy_df.pkl\")"
   ]
  },
  {
   "cell_type": "code",
   "execution_count": 38,
   "metadata": {},
   "outputs": [
    {
     "output_type": "execute_result",
     "data": {
      "text/plain": [
       "  type     theme  year  account_number      public          entity  country  \\\n",
       "0  cid  combined  2018           58671      public       Helsingør  Denmark   \n",
       "1  cid  combined  2018           31009      public      Copenhagen  Denmark   \n",
       "2  cid  combined  2018           58489      public  Hoeje-Taastrup  Denmark   \n",
       "3  cid  combined  2018           54405  non public           Vejle  Denmark   \n",
       "4  cid  combined  2018           63615      public        Hillerød  Denmark   \n",
       "\n",
       "   region  population            city  ...  primary_industry  \\\n",
       "0  Europe     62686.0       Helsingør  ...               NaN   \n",
       "1  Europe    602481.0      Copenhagen  ...               NaN   \n",
       "2  Europe     50246.0  Hoeje-Taastrup  ...               NaN   \n",
       "3  Europe    113720.0           Vejle  ...               NaN   \n",
       "4  Europe     50104.0        Hillerød  ...               NaN   \n",
       "\n",
       "   primary_questionnaire_sector s_score c_score o_score r_score e_score  \\\n",
       "0                           NaN       5       2       2       5       1   \n",
       "1                           NaN       3       1       5       5       4   \n",
       "2                           NaN       4       5       3       1       4   \n",
       "3                           NaN       2       4       5       4       5   \n",
       "4                           NaN       2       2       2       3       2   \n",
       "\n",
       "  e2_score total alpha3code  \n",
       "0        4  3.17        DNK  \n",
       "1        1  3.17        DNK  \n",
       "2        1  3.00        DNK  \n",
       "3        2  3.67        DNK  \n",
       "4        4  2.50        DNK  \n",
       "\n",
       "[5 rows x 31 columns]"
      ],
      "text/html": "<div>\n<style scoped>\n    .dataframe tbody tr th:only-of-type {\n        vertical-align: middle;\n    }\n\n    .dataframe tbody tr th {\n        vertical-align: top;\n    }\n\n    .dataframe thead th {\n        text-align: right;\n    }\n</style>\n<table border=\"1\" class=\"dataframe\">\n  <thead>\n    <tr style=\"text-align: right;\">\n      <th></th>\n      <th>type</th>\n      <th>theme</th>\n      <th>year</th>\n      <th>account_number</th>\n      <th>public</th>\n      <th>entity</th>\n      <th>country</th>\n      <th>region</th>\n      <th>population</th>\n      <th>city</th>\n      <th>...</th>\n      <th>primary_industry</th>\n      <th>primary_questionnaire_sector</th>\n      <th>s_score</th>\n      <th>c_score</th>\n      <th>o_score</th>\n      <th>r_score</th>\n      <th>e_score</th>\n      <th>e2_score</th>\n      <th>total</th>\n      <th>alpha3code</th>\n    </tr>\n  </thead>\n  <tbody>\n    <tr>\n      <th>0</th>\n      <td>cid</td>\n      <td>combined</td>\n      <td>2018</td>\n      <td>58671</td>\n      <td>public</td>\n      <td>Helsingør</td>\n      <td>Denmark</td>\n      <td>Europe</td>\n      <td>62686.0</td>\n      <td>Helsingør</td>\n      <td>...</td>\n      <td>NaN</td>\n      <td>NaN</td>\n      <td>5</td>\n      <td>2</td>\n      <td>2</td>\n      <td>5</td>\n      <td>1</td>\n      <td>4</td>\n      <td>3.17</td>\n      <td>DNK</td>\n    </tr>\n    <tr>\n      <th>1</th>\n      <td>cid</td>\n      <td>combined</td>\n      <td>2018</td>\n      <td>31009</td>\n      <td>public</td>\n      <td>Copenhagen</td>\n      <td>Denmark</td>\n      <td>Europe</td>\n      <td>602481.0</td>\n      <td>Copenhagen</td>\n      <td>...</td>\n      <td>NaN</td>\n      <td>NaN</td>\n      <td>3</td>\n      <td>1</td>\n      <td>5</td>\n      <td>5</td>\n      <td>4</td>\n      <td>1</td>\n      <td>3.17</td>\n      <td>DNK</td>\n    </tr>\n    <tr>\n      <th>2</th>\n      <td>cid</td>\n      <td>combined</td>\n      <td>2018</td>\n      <td>58489</td>\n      <td>public</td>\n      <td>Hoeje-Taastrup</td>\n      <td>Denmark</td>\n      <td>Europe</td>\n      <td>50246.0</td>\n      <td>Hoeje-Taastrup</td>\n      <td>...</td>\n      <td>NaN</td>\n      <td>NaN</td>\n      <td>4</td>\n      <td>5</td>\n      <td>3</td>\n      <td>1</td>\n      <td>4</td>\n      <td>1</td>\n      <td>3.00</td>\n      <td>DNK</td>\n    </tr>\n    <tr>\n      <th>3</th>\n      <td>cid</td>\n      <td>combined</td>\n      <td>2018</td>\n      <td>54405</td>\n      <td>non public</td>\n      <td>Vejle</td>\n      <td>Denmark</td>\n      <td>Europe</td>\n      <td>113720.0</td>\n      <td>Vejle</td>\n      <td>...</td>\n      <td>NaN</td>\n      <td>NaN</td>\n      <td>2</td>\n      <td>4</td>\n      <td>5</td>\n      <td>4</td>\n      <td>5</td>\n      <td>2</td>\n      <td>3.67</td>\n      <td>DNK</td>\n    </tr>\n    <tr>\n      <th>4</th>\n      <td>cid</td>\n      <td>combined</td>\n      <td>2018</td>\n      <td>63615</td>\n      <td>public</td>\n      <td>Hillerød</td>\n      <td>Denmark</td>\n      <td>Europe</td>\n      <td>50104.0</td>\n      <td>Hillerød</td>\n      <td>...</td>\n      <td>NaN</td>\n      <td>NaN</td>\n      <td>2</td>\n      <td>2</td>\n      <td>2</td>\n      <td>3</td>\n      <td>2</td>\n      <td>4</td>\n      <td>2.50</td>\n      <td>DNK</td>\n    </tr>\n  </tbody>\n</table>\n<p>5 rows × 31 columns</p>\n</div>"
     },
     "metadata": {},
     "execution_count": 38
    }
   ],
   "source": [
    "odf.head()"
   ]
  },
  {
   "cell_type": "code",
   "execution_count": 39,
   "metadata": {},
   "outputs": [],
   "source": [
    "df = pd.read_pickle(\"datasets/all_scores.pkl\")"
   ]
  },
  {
   "cell_type": "code",
   "execution_count": 41,
   "metadata": {},
   "outputs": [],
   "source": [
    "df = df.astype(dtype=\"int64\", errors=\"ignore\")"
   ]
  },
  {
   "cell_type": "code",
   "execution_count": 42,
   "metadata": {},
   "outputs": [],
   "source": [
    "countries=pd.read_csv(\"datasets/countries_iso3166-1_alpha3.csv\", delimiter=\";\")"
   ]
  },
  {
   "cell_type": "code",
   "execution_count": 43,
   "metadata": {},
   "outputs": [],
   "source": [
    "countries = countries.loc[:,[\"Country\", \"Alpha-3 code\"]]"
   ]
  },
  {
   "cell_type": "code",
   "execution_count": 44,
   "metadata": {},
   "outputs": [],
   "source": [
    "\n",
    "df = df.merge(countries, left_on=\"country\", right_on=\"Country\")\n",
    "df[\"s_score_total\"] = 3\n",
    "df[\"c_score_total\"] = df.c_score_1 + df.c_score_2\n",
    "df[\"o_score_total\"] = 3\n",
    "df[\"r_score_total\"] = df.r_score_1 + df.r_score_2 + df.r_score_3 + df.r_score_4 + df.r_score_5 + df.r_score_6 + df.r_score_7\n",
    "df[\"e_score_total\"] = df.e_score_1 + df.e_score_2 + df.e_score_3 + df.e_score_4 + df.e_score_6 + df.e_score_7 + df.e_score_8 + df.e_score_9 + df.e_score_10 + df.e_score_11\n",
    "df[\"em_score_total\"] = df.em_score_1 + df.em_score_2"
   ]
  },
  {
   "cell_type": "code",
   "execution_count": 51,
   "metadata": {},
   "outputs": [],
   "source": [
    "df.rename(columns={\"Alpha-3 code\":\"alpha3code\"}, inplace=True) "
   ]
  },
  {
   "cell_type": "code",
   "execution_count": 52,
   "metadata": {},
   "outputs": [],
   "source": [
    "df.to_pickle(\"datasets/new_dummy_df.pkl\")"
   ]
  },
  {
   "cell_type": "code",
   "execution_count": null,
   "metadata": {},
   "outputs": [],
   "source": []
  }
 ]
}