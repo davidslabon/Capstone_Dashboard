{
 "metadata": {
  "language_info": {
   "codemirror_mode": {
    "name": "ipython",
    "version": 3
   },
   "file_extension": ".py",
   "mimetype": "text/x-python",
   "name": "python",
   "nbconvert_exporter": "python",
   "pygments_lexer": "ipython3",
   "version": "3.8.3-final"
  },
  "orig_nbformat": 2,
  "kernelspec": {
   "name": "Python 3.8.3 64-bit ('venv')",
   "display_name": "Python 3.8.3 64-bit ('venv')",
   "metadata": {
    "interpreter": {
     "hash": "b3b17fe975ddf2dd0da0130e3ffd26b5ec7c29b380370fdbbb5db22560381f8c"
    }
   }
  }
 },
 "nbformat": 4,
 "nbformat_minor": 2,
 "cells": [
  {
   "cell_type": "code",
   "execution_count": 1,
   "metadata": {},
   "outputs": [],
   "source": [
    "import pandas as pd\n",
    "import numpy as np"
   ]
  },
  {
   "cell_type": "code",
   "execution_count": 2,
   "metadata": {},
   "outputs": [],
   "source": [
    "df = pd.read_pickle(\"datasets/all_scores.pkl\")"
   ]
  },
  {
   "cell_type": "code",
   "execution_count": 3,
   "metadata": {},
   "outputs": [
    {
     "output_type": "execute_result",
     "data": {
      "text/plain": [
       "     type     theme  year  account_number  public                      entity  \\\n",
       "0  cities  combined  2018           58671  public                   Helsingør   \n",
       "1  cities  combined  2018           59167  public                 Providencia   \n",
       "2  cities  combined  2018           50553  public                      Fresno   \n",
       "3  cities  combined  2018          826407  public                   Mirandela   \n",
       "4  cities  combined  2018           60375  public  Archipiélago de San Andrés   \n",
       "\n",
       "                    country         region  s_score_1  s_score_2  ...  \\\n",
       "0                   Denmark         Europe        NaN        NaN  ...   \n",
       "1                     Chile  Latin America        3.0        NaN  ...   \n",
       "2  United States of America  North America        5.0        NaN  ...   \n",
       "3                  Portugal         Europe        5.0        NaN  ...   \n",
       "4                  Colombia  Latin America        3.0        NaN  ...   \n",
       "\n",
       "   o_score_5  o_score_6  o_score_7  r_score_5  r_score_6  r_score_7  \\\n",
       "0        NaN        NaN        NaN        NaN        NaN        NaN   \n",
       "1        NaN        NaN        NaN        NaN        NaN        NaN   \n",
       "2        NaN        NaN        NaN        NaN        NaN        NaN   \n",
       "3        NaN        NaN        NaN        NaN        NaN        NaN   \n",
       "4        NaN        NaN        NaN        NaN        NaN        NaN   \n",
       "\n",
       "   e_score_8  e_score_9  e_score_10  e_score_11  \n",
       "0        NaN        NaN         NaN         NaN  \n",
       "1        NaN        NaN         NaN         NaN  \n",
       "2        NaN        NaN         NaN         NaN  \n",
       "3        NaN        NaN         NaN         NaN  \n",
       "4        NaN        NaN         NaN         NaN  \n",
       "\n",
       "[5 rows x 42 columns]"
      ],
      "text/html": "<div>\n<style scoped>\n    .dataframe tbody tr th:only-of-type {\n        vertical-align: middle;\n    }\n\n    .dataframe tbody tr th {\n        vertical-align: top;\n    }\n\n    .dataframe thead th {\n        text-align: right;\n    }\n</style>\n<table border=\"1\" class=\"dataframe\">\n  <thead>\n    <tr style=\"text-align: right;\">\n      <th></th>\n      <th>type</th>\n      <th>theme</th>\n      <th>year</th>\n      <th>account_number</th>\n      <th>public</th>\n      <th>entity</th>\n      <th>country</th>\n      <th>region</th>\n      <th>s_score_1</th>\n      <th>s_score_2</th>\n      <th>...</th>\n      <th>o_score_5</th>\n      <th>o_score_6</th>\n      <th>o_score_7</th>\n      <th>r_score_5</th>\n      <th>r_score_6</th>\n      <th>r_score_7</th>\n      <th>e_score_8</th>\n      <th>e_score_9</th>\n      <th>e_score_10</th>\n      <th>e_score_11</th>\n    </tr>\n  </thead>\n  <tbody>\n    <tr>\n      <th>0</th>\n      <td>cities</td>\n      <td>combined</td>\n      <td>2018</td>\n      <td>58671</td>\n      <td>public</td>\n      <td>Helsingør</td>\n      <td>Denmark</td>\n      <td>Europe</td>\n      <td>NaN</td>\n      <td>NaN</td>\n      <td>...</td>\n      <td>NaN</td>\n      <td>NaN</td>\n      <td>NaN</td>\n      <td>NaN</td>\n      <td>NaN</td>\n      <td>NaN</td>\n      <td>NaN</td>\n      <td>NaN</td>\n      <td>NaN</td>\n      <td>NaN</td>\n    </tr>\n    <tr>\n      <th>1</th>\n      <td>cities</td>\n      <td>combined</td>\n      <td>2018</td>\n      <td>59167</td>\n      <td>public</td>\n      <td>Providencia</td>\n      <td>Chile</td>\n      <td>Latin America</td>\n      <td>3.0</td>\n      <td>NaN</td>\n      <td>...</td>\n      <td>NaN</td>\n      <td>NaN</td>\n      <td>NaN</td>\n      <td>NaN</td>\n      <td>NaN</td>\n      <td>NaN</td>\n      <td>NaN</td>\n      <td>NaN</td>\n      <td>NaN</td>\n      <td>NaN</td>\n    </tr>\n    <tr>\n      <th>2</th>\n      <td>cities</td>\n      <td>combined</td>\n      <td>2018</td>\n      <td>50553</td>\n      <td>public</td>\n      <td>Fresno</td>\n      <td>United States of America</td>\n      <td>North America</td>\n      <td>5.0</td>\n      <td>NaN</td>\n      <td>...</td>\n      <td>NaN</td>\n      <td>NaN</td>\n      <td>NaN</td>\n      <td>NaN</td>\n      <td>NaN</td>\n      <td>NaN</td>\n      <td>NaN</td>\n      <td>NaN</td>\n      <td>NaN</td>\n      <td>NaN</td>\n    </tr>\n    <tr>\n      <th>3</th>\n      <td>cities</td>\n      <td>combined</td>\n      <td>2018</td>\n      <td>826407</td>\n      <td>public</td>\n      <td>Mirandela</td>\n      <td>Portugal</td>\n      <td>Europe</td>\n      <td>5.0</td>\n      <td>NaN</td>\n      <td>...</td>\n      <td>NaN</td>\n      <td>NaN</td>\n      <td>NaN</td>\n      <td>NaN</td>\n      <td>NaN</td>\n      <td>NaN</td>\n      <td>NaN</td>\n      <td>NaN</td>\n      <td>NaN</td>\n      <td>NaN</td>\n    </tr>\n    <tr>\n      <th>4</th>\n      <td>cities</td>\n      <td>combined</td>\n      <td>2018</td>\n      <td>60375</td>\n      <td>public</td>\n      <td>Archipiélago de San Andrés</td>\n      <td>Colombia</td>\n      <td>Latin America</td>\n      <td>3.0</td>\n      <td>NaN</td>\n      <td>...</td>\n      <td>NaN</td>\n      <td>NaN</td>\n      <td>NaN</td>\n      <td>NaN</td>\n      <td>NaN</td>\n      <td>NaN</td>\n      <td>NaN</td>\n      <td>NaN</td>\n      <td>NaN</td>\n      <td>NaN</td>\n    </tr>\n  </tbody>\n</table>\n<p>5 rows × 42 columns</p>\n</div>"
     },
     "metadata": {},
     "execution_count": 3
    }
   ],
   "source": [
    "df = df.replace({\"0\":np.nan, 0:np.nan})\n",
    "df.head()"
   ]
  },
  {
   "cell_type": "code",
   "execution_count": 3,
   "metadata": {},
   "outputs": [],
   "source": [
    "countries=pd.read_csv(\"datasets/countries_iso3166-1_alpha3.csv\", delimiter=\";\")"
   ]
  },
  {
   "cell_type": "code",
   "execution_count": 4,
   "metadata": {},
   "outputs": [],
   "source": [
    "countries = countries.loc[:,[\"Country\", \"Alpha-3 code\"]]"
   ]
  },
  {
   "cell_type": "code",
   "execution_count": 5,
   "metadata": {},
   "outputs": [],
   "source": [
    "df = df.merge(countries, left_on=\"country\", right_on=\"Country\")\n",
    "df.rename(columns={\"Alpha-3 code\":\"alpha3code\"}, inplace=True) "
   ]
  },
  {
   "cell_type": "code",
   "execution_count": 6,
   "metadata": {},
   "outputs": [],
   "source": [
    "df[\"s_score_total\"] = df.loc[:,[\"s_score_1\", \"s_score_2\"]].mean(axis=1)\n",
    "df[\"c_score_total\"] = df.loc[:,[\"c_score_1\", \"c_score_2\", \"c_score_3\", \"c_score_4\", \"c_score_5\", \"c_score_6\",]].mean(axis=1)\n",
    "df[\"o_score_total\"] = df.loc[:,[\"o_score_1\", \"o_score_2\", \"o_score_3\", \"o_score_4\", \"o_score_5\", \"o_score_6\", \"o_score_7\"]].mean(axis=1)\n",
    "df[\"r_score_total\"] = df.loc[:,[\"r_score_1\", \"r_score_2\", \"r_score_3\", \"r_score_4\", \"r_score_5\", \"r_score_6\", \"r_score_7\"]].mean(axis=1)\n",
    "df[\"e_score_total\"] = df.loc[:,[\"e_score_1\", \"e_score_2\", \"e_score_3\", \"e_score_4\", \"e_score_6\", \"e_score_7\", \"e_score_8\", \"e_score_9\", \"e_score_10\", \"e_score_11\"]].mean(axis=1)\n",
    "df[\"em_score_total\"] = df.loc[:,[\"em_score_1\", \"em_score_2\"]].mean(axis=1)\n",
    "\n"
   ]
  },
  {
   "cell_type": "code",
   "execution_count": 7,
   "metadata": {},
   "outputs": [],
   "source": [
    "cis = df.query(\"type=='cid'\")\n",
    "cis = cis.dropna(axis=\"columns\", how=\"all\")\n",
    "cis.to_pickle(\"datasets/cities.pkl\", protocol=3)"
   ]
  },
  {
   "cell_type": "code",
   "execution_count": 8,
   "metadata": {},
   "outputs": [],
   "source": [
    "cos = df.query(\"type == 'cod'\")\n",
    "cos = cos.dropna(axis=\"columns\", how=\"all\")\n",
    "cos.to_pickle(\"datasets/corporates.pkl\", protocol=3)"
   ]
  },
  {
   "cell_type": "code",
   "execution_count": 9,
   "metadata": {},
   "outputs": [],
   "source": [
    "df.to_pickle(\"datasets/complete_score.pkl\", protocol=3)"
   ]
  },
  {
   "cell_type": "code",
   "execution_count": 19,
   "metadata": {},
   "outputs": [
    {
     "output_type": "execute_result",
     "data": {
      "text/plain": [
       "                        0           1               2           3         4\n",
       "type               cities      cities          cities      cities    cities\n",
       "theme            combined    combined        combined    combined  combined\n",
       "year                 2018        2018            2018        2018      2018\n",
       "account_number      58671       31009           58489       54405     63615\n",
       "public             public      public          public  non public    public\n",
       "entity          Helsingør  Copenhagen  Hoeje-Taastrup       Vejle  Hillerød\n",
       "country           Denmark     Denmark         Denmark     Denmark   Denmark\n",
       "region             Europe      Europe          Europe      Europe    Europe\n",
       "s_score_1               0           0               0           0         0\n",
       "s_score_2               0           0               0           0         0\n",
       "c_score_1               5           5               5           0         5\n",
       "c_score_2               1           0               1           0         0\n",
       "o_score_1               0           0               0           0         0\n",
       "o_score_2               0           0               0           0         0\n",
       "r_score_1               0           0               0           0         0\n",
       "r_score_2               0           0               0           0         0\n",
       "r_score_3               0           0               0           0         0\n",
       "r_score_4               0           0               0           0         0\n",
       "e_score_1               5           5               5           0         5\n",
       "e_score_2               0           0               0           0         0\n",
       "e_score_3               5           5               5           0         5\n",
       "e_score_4               5           5               5           0         5\n",
       "e_score_6               0           0               0           0         0\n",
       "e_score_7               0           0               0           0         0\n",
       "em_score_1              0           0               5           0         0\n",
       "em_score_2              0           0               5           0         0\n",
       "c_score_3             NaN         NaN             NaN         NaN       NaN\n",
       "c_score_4             NaN         NaN             NaN         NaN       NaN\n",
       "c_score_5             NaN         NaN             NaN         NaN       NaN\n",
       "c_score_6             NaN         NaN             NaN         NaN       NaN\n",
       "o_score_3             NaN         NaN             NaN         NaN       NaN\n",
       "o_score_4             NaN         NaN             NaN         NaN       NaN\n",
       "o_score_5             NaN         NaN             NaN         NaN       NaN\n",
       "o_score_6             NaN         NaN             NaN         NaN       NaN\n",
       "o_score_7             NaN         NaN             NaN         NaN       NaN\n",
       "r_score_5             NaN         NaN             NaN         NaN       NaN\n",
       "r_score_6             NaN         NaN             NaN         NaN       NaN\n",
       "r_score_7             NaN         NaN             NaN         NaN       NaN\n",
       "e_score_8             NaN         NaN             NaN         NaN       NaN\n",
       "e_score_9             NaN         NaN             NaN         NaN       NaN\n",
       "e_score_10            NaN         NaN             NaN         NaN       NaN\n",
       "e_score_11            NaN         NaN             NaN         NaN       NaN\n",
       "Country           Denmark     Denmark         Denmark     Denmark   Denmark\n",
       "alpha3code            DNK         DNK             DNK         DNK       DNK\n",
       "s_score_total           0           0               0           0         0\n",
       "c_score_total           3         2.5               3           0       2.5\n",
       "o_score_total           0           0               0           0         0\n",
       "r_score_total           0           0               0           0         0\n",
       "e_score_total         2.5         2.5             2.5           0       2.5\n",
       "em_score_total          0           0               5           0         0\n",
       "score_total      0.916667    0.833333            1.75           0  0.833333"
      ],
      "text/html": "<div>\n<style scoped>\n    .dataframe tbody tr th:only-of-type {\n        vertical-align: middle;\n    }\n\n    .dataframe tbody tr th {\n        vertical-align: top;\n    }\n\n    .dataframe thead th {\n        text-align: right;\n    }\n</style>\n<table border=\"1\" class=\"dataframe\">\n  <thead>\n    <tr style=\"text-align: right;\">\n      <th></th>\n      <th>0</th>\n      <th>1</th>\n      <th>2</th>\n      <th>3</th>\n      <th>4</th>\n    </tr>\n  </thead>\n  <tbody>\n    <tr>\n      <th>type</th>\n      <td>cities</td>\n      <td>cities</td>\n      <td>cities</td>\n      <td>cities</td>\n      <td>cities</td>\n    </tr>\n    <tr>\n      <th>theme</th>\n      <td>combined</td>\n      <td>combined</td>\n      <td>combined</td>\n      <td>combined</td>\n      <td>combined</td>\n    </tr>\n    <tr>\n      <th>year</th>\n      <td>2018</td>\n      <td>2018</td>\n      <td>2018</td>\n      <td>2018</td>\n      <td>2018</td>\n    </tr>\n    <tr>\n      <th>account_number</th>\n      <td>58671</td>\n      <td>31009</td>\n      <td>58489</td>\n      <td>54405</td>\n      <td>63615</td>\n    </tr>\n    <tr>\n      <th>public</th>\n      <td>public</td>\n      <td>public</td>\n      <td>public</td>\n      <td>non public</td>\n      <td>public</td>\n    </tr>\n    <tr>\n      <th>entity</th>\n      <td>Helsingør</td>\n      <td>Copenhagen</td>\n      <td>Hoeje-Taastrup</td>\n      <td>Vejle</td>\n      <td>Hillerød</td>\n    </tr>\n    <tr>\n      <th>country</th>\n      <td>Denmark</td>\n      <td>Denmark</td>\n      <td>Denmark</td>\n      <td>Denmark</td>\n      <td>Denmark</td>\n    </tr>\n    <tr>\n      <th>region</th>\n      <td>Europe</td>\n      <td>Europe</td>\n      <td>Europe</td>\n      <td>Europe</td>\n      <td>Europe</td>\n    </tr>\n    <tr>\n      <th>s_score_1</th>\n      <td>0</td>\n      <td>0</td>\n      <td>0</td>\n      <td>0</td>\n      <td>0</td>\n    </tr>\n    <tr>\n      <th>s_score_2</th>\n      <td>0</td>\n      <td>0</td>\n      <td>0</td>\n      <td>0</td>\n      <td>0</td>\n    </tr>\n    <tr>\n      <th>c_score_1</th>\n      <td>5</td>\n      <td>5</td>\n      <td>5</td>\n      <td>0</td>\n      <td>5</td>\n    </tr>\n    <tr>\n      <th>c_score_2</th>\n      <td>1</td>\n      <td>0</td>\n      <td>1</td>\n      <td>0</td>\n      <td>0</td>\n    </tr>\n    <tr>\n      <th>o_score_1</th>\n      <td>0</td>\n      <td>0</td>\n      <td>0</td>\n      <td>0</td>\n      <td>0</td>\n    </tr>\n    <tr>\n      <th>o_score_2</th>\n      <td>0</td>\n      <td>0</td>\n      <td>0</td>\n      <td>0</td>\n      <td>0</td>\n    </tr>\n    <tr>\n      <th>r_score_1</th>\n      <td>0</td>\n      <td>0</td>\n      <td>0</td>\n      <td>0</td>\n      <td>0</td>\n    </tr>\n    <tr>\n      <th>r_score_2</th>\n      <td>0</td>\n      <td>0</td>\n      <td>0</td>\n      <td>0</td>\n      <td>0</td>\n    </tr>\n    <tr>\n      <th>r_score_3</th>\n      <td>0</td>\n      <td>0</td>\n      <td>0</td>\n      <td>0</td>\n      <td>0</td>\n    </tr>\n    <tr>\n      <th>r_score_4</th>\n      <td>0</td>\n      <td>0</td>\n      <td>0</td>\n      <td>0</td>\n      <td>0</td>\n    </tr>\n    <tr>\n      <th>e_score_1</th>\n      <td>5</td>\n      <td>5</td>\n      <td>5</td>\n      <td>0</td>\n      <td>5</td>\n    </tr>\n    <tr>\n      <th>e_score_2</th>\n      <td>0</td>\n      <td>0</td>\n      <td>0</td>\n      <td>0</td>\n      <td>0</td>\n    </tr>\n    <tr>\n      <th>e_score_3</th>\n      <td>5</td>\n      <td>5</td>\n      <td>5</td>\n      <td>0</td>\n      <td>5</td>\n    </tr>\n    <tr>\n      <th>e_score_4</th>\n      <td>5</td>\n      <td>5</td>\n      <td>5</td>\n      <td>0</td>\n      <td>5</td>\n    </tr>\n    <tr>\n      <th>e_score_6</th>\n      <td>0</td>\n      <td>0</td>\n      <td>0</td>\n      <td>0</td>\n      <td>0</td>\n    </tr>\n    <tr>\n      <th>e_score_7</th>\n      <td>0</td>\n      <td>0</td>\n      <td>0</td>\n      <td>0</td>\n      <td>0</td>\n    </tr>\n    <tr>\n      <th>em_score_1</th>\n      <td>0</td>\n      <td>0</td>\n      <td>5</td>\n      <td>0</td>\n      <td>0</td>\n    </tr>\n    <tr>\n      <th>em_score_2</th>\n      <td>0</td>\n      <td>0</td>\n      <td>5</td>\n      <td>0</td>\n      <td>0</td>\n    </tr>\n    <tr>\n      <th>c_score_3</th>\n      <td>NaN</td>\n      <td>NaN</td>\n      <td>NaN</td>\n      <td>NaN</td>\n      <td>NaN</td>\n    </tr>\n    <tr>\n      <th>c_score_4</th>\n      <td>NaN</td>\n      <td>NaN</td>\n      <td>NaN</td>\n      <td>NaN</td>\n      <td>NaN</td>\n    </tr>\n    <tr>\n      <th>c_score_5</th>\n      <td>NaN</td>\n      <td>NaN</td>\n      <td>NaN</td>\n      <td>NaN</td>\n      <td>NaN</td>\n    </tr>\n    <tr>\n      <th>c_score_6</th>\n      <td>NaN</td>\n      <td>NaN</td>\n      <td>NaN</td>\n      <td>NaN</td>\n      <td>NaN</td>\n    </tr>\n    <tr>\n      <th>o_score_3</th>\n      <td>NaN</td>\n      <td>NaN</td>\n      <td>NaN</td>\n      <td>NaN</td>\n      <td>NaN</td>\n    </tr>\n    <tr>\n      <th>o_score_4</th>\n      <td>NaN</td>\n      <td>NaN</td>\n      <td>NaN</td>\n      <td>NaN</td>\n      <td>NaN</td>\n    </tr>\n    <tr>\n      <th>o_score_5</th>\n      <td>NaN</td>\n      <td>NaN</td>\n      <td>NaN</td>\n      <td>NaN</td>\n      <td>NaN</td>\n    </tr>\n    <tr>\n      <th>o_score_6</th>\n      <td>NaN</td>\n      <td>NaN</td>\n      <td>NaN</td>\n      <td>NaN</td>\n      <td>NaN</td>\n    </tr>\n    <tr>\n      <th>o_score_7</th>\n      <td>NaN</td>\n      <td>NaN</td>\n      <td>NaN</td>\n      <td>NaN</td>\n      <td>NaN</td>\n    </tr>\n    <tr>\n      <th>r_score_5</th>\n      <td>NaN</td>\n      <td>NaN</td>\n      <td>NaN</td>\n      <td>NaN</td>\n      <td>NaN</td>\n    </tr>\n    <tr>\n      <th>r_score_6</th>\n      <td>NaN</td>\n      <td>NaN</td>\n      <td>NaN</td>\n      <td>NaN</td>\n      <td>NaN</td>\n    </tr>\n    <tr>\n      <th>r_score_7</th>\n      <td>NaN</td>\n      <td>NaN</td>\n      <td>NaN</td>\n      <td>NaN</td>\n      <td>NaN</td>\n    </tr>\n    <tr>\n      <th>e_score_8</th>\n      <td>NaN</td>\n      <td>NaN</td>\n      <td>NaN</td>\n      <td>NaN</td>\n      <td>NaN</td>\n    </tr>\n    <tr>\n      <th>e_score_9</th>\n      <td>NaN</td>\n      <td>NaN</td>\n      <td>NaN</td>\n      <td>NaN</td>\n      <td>NaN</td>\n    </tr>\n    <tr>\n      <th>e_score_10</th>\n      <td>NaN</td>\n      <td>NaN</td>\n      <td>NaN</td>\n      <td>NaN</td>\n      <td>NaN</td>\n    </tr>\n    <tr>\n      <th>e_score_11</th>\n      <td>NaN</td>\n      <td>NaN</td>\n      <td>NaN</td>\n      <td>NaN</td>\n      <td>NaN</td>\n    </tr>\n    <tr>\n      <th>Country</th>\n      <td>Denmark</td>\n      <td>Denmark</td>\n      <td>Denmark</td>\n      <td>Denmark</td>\n      <td>Denmark</td>\n    </tr>\n    <tr>\n      <th>alpha3code</th>\n      <td>DNK</td>\n      <td>DNK</td>\n      <td>DNK</td>\n      <td>DNK</td>\n      <td>DNK</td>\n    </tr>\n    <tr>\n      <th>s_score_total</th>\n      <td>0</td>\n      <td>0</td>\n      <td>0</td>\n      <td>0</td>\n      <td>0</td>\n    </tr>\n    <tr>\n      <th>c_score_total</th>\n      <td>3</td>\n      <td>2.5</td>\n      <td>3</td>\n      <td>0</td>\n      <td>2.5</td>\n    </tr>\n    <tr>\n      <th>o_score_total</th>\n      <td>0</td>\n      <td>0</td>\n      <td>0</td>\n      <td>0</td>\n      <td>0</td>\n    </tr>\n    <tr>\n      <th>r_score_total</th>\n      <td>0</td>\n      <td>0</td>\n      <td>0</td>\n      <td>0</td>\n      <td>0</td>\n    </tr>\n    <tr>\n      <th>e_score_total</th>\n      <td>2.5</td>\n      <td>2.5</td>\n      <td>2.5</td>\n      <td>0</td>\n      <td>2.5</td>\n    </tr>\n    <tr>\n      <th>em_score_total</th>\n      <td>0</td>\n      <td>0</td>\n      <td>5</td>\n      <td>0</td>\n      <td>0</td>\n    </tr>\n    <tr>\n      <th>score_total</th>\n      <td>0.916667</td>\n      <td>0.833333</td>\n      <td>1.75</td>\n      <td>0</td>\n      <td>0.833333</td>\n    </tr>\n  </tbody>\n</table>\n</div>"
     },
     "metadata": {},
     "execution_count": 19
    }
   ],
   "source": [
    "df.head(5).T"
   ]
  },
  {
   "cell_type": "code",
   "execution_count": 11,
   "metadata": {},
   "outputs": [],
   "source": [
    "import plotly.graph_objects as go"
   ]
  },
  {
   "cell_type": "code",
   "execution_count": 12,
   "metadata": {},
   "outputs": [],
   "source": [
    "df = pd.read_pickle(\"datasets/complete_score.pkl\")"
   ]
  },
  {
   "cell_type": "code",
   "execution_count": 13,
   "metadata": {},
   "outputs": [],
   "source": [
    "df[\"score_total\"] = df.loc[:,\"s_score_total\":\"em_score_total\"].mean(axis=1)"
   ]
  },
  {
   "cell_type": "code",
   "execution_count": 25,
   "metadata": {},
   "outputs": [
    {
     "output_type": "execute_result",
     "data": {
      "text/plain": [
       "Index(['type', 'theme', 'year', 'account_number', 'public', 'entity',\n",
       "       'country', 'region', 's_score_1', 's_score_2', 'c_score_1', 'c_score_2',\n",
       "       'o_score_1', 'o_score_2', 'r_score_1', 'r_score_2', 'r_score_3',\n",
       "       'r_score_4', 'e_score_1', 'e_score_2', 'e_score_3', 'e_score_4',\n",
       "       'e_score_6', 'e_score_7', 'em_score_1', 'em_score_2', 'c_score_3',\n",
       "       'c_score_4', 'c_score_5', 'c_score_6', 'o_score_3', 'o_score_4',\n",
       "       'o_score_5', 'o_score_6', 'o_score_7', 'r_score_5', 'r_score_6',\n",
       "       'r_score_7', 'e_score_8', 'e_score_9', 'e_score_10', 'e_score_11',\n",
       "       'Country', 'alpha3code', 's_score_total', 'c_score_total',\n",
       "       'o_score_total', 'r_score_total', 'e_score_total', 'em_score_total',\n",
       "       'score_total'],\n",
       "      dtype='object')"
      ]
     },
     "metadata": {},
     "execution_count": 25
    }
   ],
   "source": [
    "df.columns"
   ]
  },
  {
   "cell_type": "code",
   "execution_count": 30,
   "metadata": {},
   "outputs": [],
   "source": [
    "all_subs_scores = [\n",
    "    ['s_score_1', 's_score_2'], \n",
    "    ['c_score_1', 'c_score_2', 'c_score_3', 'c_score_4', 'c_score_5', 'c_score_6'],\n",
    "    ['o_score_1', 'o_score_2', 'o_score_3', 'o_score_4', 'o_score_5', 'o_score_6', 'o_score_7'], \n",
    "    ['r_score_1', 'r_score_2', 'r_score_3', 'r_score_5', 'r_score_6', 'r_score_7'], \n",
    "    ['e_score_1', 'e_score_2', 'e_score_3', 'e_score_4', 'e_score_6', 'e_score_7', 'e_score_8', 'e_score_9', 'e_score_10', 'e_score_11'], \n",
    "    ['em_score_1', 'em_score_2']\n",
    "    ]\n",
    "\n",
    "       "
   ]
  },
  {
   "cell_type": "code",
   "execution_count": 28,
   "metadata": {},
   "outputs": [
    {
     "output_type": "execute_result",
     "data": {
      "text/plain": [
       "         type  account_number  s_score_1  s_score_2  c_score_1  c_score_2  \\\n",
       "0      cities   161791.656796   3.064078    2.13301    3.25534   0.804854   \n",
       "1  corporates   104036.458189        NaN        NaN        NaN        NaN   \n",
       "\n",
       "   o_score_1  o_score_2  r_score_1  r_score_2  ...  o_score_5  o_score_6  \\\n",
       "0   3.064078    2.13301   1.370388   1.429126  ...        NaN        NaN   \n",
       "1        NaN        NaN        NaN        NaN  ...   2.438921   2.678613   \n",
       "\n",
       "   o_score_7  r_score_5  r_score_6  r_score_7  e_score_8  e_score_9  \\\n",
       "0        NaN        NaN        NaN        NaN        NaN        NaN   \n",
       "1   1.964933   3.618882     0.5842   1.098266   2.993064   3.151445   \n",
       "\n",
       "   e_score_10  e_score_11  \n",
       "0         NaN         NaN  \n",
       "1     1.34104    1.631599  \n",
       "\n",
       "[2 rows x 36 columns]"
      ],
      "text/html": "<div>\n<style scoped>\n    .dataframe tbody tr th:only-of-type {\n        vertical-align: middle;\n    }\n\n    .dataframe tbody tr th {\n        vertical-align: top;\n    }\n\n    .dataframe thead th {\n        text-align: right;\n    }\n</style>\n<table border=\"1\" class=\"dataframe\">\n  <thead>\n    <tr style=\"text-align: right;\">\n      <th></th>\n      <th>type</th>\n      <th>account_number</th>\n      <th>s_score_1</th>\n      <th>s_score_2</th>\n      <th>c_score_1</th>\n      <th>c_score_2</th>\n      <th>o_score_1</th>\n      <th>o_score_2</th>\n      <th>r_score_1</th>\n      <th>r_score_2</th>\n      <th>...</th>\n      <th>o_score_5</th>\n      <th>o_score_6</th>\n      <th>o_score_7</th>\n      <th>r_score_5</th>\n      <th>r_score_6</th>\n      <th>r_score_7</th>\n      <th>e_score_8</th>\n      <th>e_score_9</th>\n      <th>e_score_10</th>\n      <th>e_score_11</th>\n    </tr>\n  </thead>\n  <tbody>\n    <tr>\n      <th>0</th>\n      <td>cities</td>\n      <td>161791.656796</td>\n      <td>3.064078</td>\n      <td>2.13301</td>\n      <td>3.25534</td>\n      <td>0.804854</td>\n      <td>3.064078</td>\n      <td>2.13301</td>\n      <td>1.370388</td>\n      <td>1.429126</td>\n      <td>...</td>\n      <td>NaN</td>\n      <td>NaN</td>\n      <td>NaN</td>\n      <td>NaN</td>\n      <td>NaN</td>\n      <td>NaN</td>\n      <td>NaN</td>\n      <td>NaN</td>\n      <td>NaN</td>\n      <td>NaN</td>\n    </tr>\n    <tr>\n      <th>1</th>\n      <td>corporates</td>\n      <td>104036.458189</td>\n      <td>NaN</td>\n      <td>NaN</td>\n      <td>NaN</td>\n      <td>NaN</td>\n      <td>NaN</td>\n      <td>NaN</td>\n      <td>NaN</td>\n      <td>NaN</td>\n      <td>...</td>\n      <td>2.438921</td>\n      <td>2.678613</td>\n      <td>1.964933</td>\n      <td>3.618882</td>\n      <td>0.5842</td>\n      <td>1.098266</td>\n      <td>2.993064</td>\n      <td>3.151445</td>\n      <td>1.34104</td>\n      <td>1.631599</td>\n    </tr>\n  </tbody>\n</table>\n<p>2 rows × 36 columns</p>\n</div>"
     },
     "metadata": {},
     "execution_count": 28
    }
   ],
   "source": [
    "gob = df.groupby(\"type\").mean()\n",
    "gob = gob.reset_index()\n",
    "gob = gob.loc[:, \"type\":\"e_score_11\" ]\n",
    "gob = gob.query()"
   ]
  },
  {
   "cell_type": "code",
   "execution_count": 45,
   "metadata": {},
   "outputs": [
    {
     "output_type": "execute_result",
     "data": {
      "text/plain": [
       "['c_score_1', 'c_score_2', 'c_score_3', 'c_score_4', 'c_score_5', 'c_score_6']"
      ]
     },
     "metadata": {},
     "execution_count": 45
    }
   ],
   "source": [
    "cols = [\"type\"] + all_subs_scores[1] \n",
    "data = gob.loc[:, cols]\n",
    "\n",
    "cols[1:]"
   ]
  },
  {
   "cell_type": "code",
   "execution_count": 50,
   "metadata": {},
   "outputs": [
    {
     "output_type": "execute_result",
     "data": {
      "text/plain": [
       "         type  c_score_1  c_score_2  c_score_3  c_score_4  c_score_5  \\\n",
       "0      cities    3.25534   0.804854        NaN        NaN        NaN   \n",
       "1  corporates        NaN        NaN   2.524085   1.471676   1.398073   \n",
       "\n",
       "   c_score_6  \n",
       "0        NaN  \n",
       "1   2.241233  "
      ],
      "text/html": "<div>\n<style scoped>\n    .dataframe tbody tr th:only-of-type {\n        vertical-align: middle;\n    }\n\n    .dataframe tbody tr th {\n        vertical-align: top;\n    }\n\n    .dataframe thead th {\n        text-align: right;\n    }\n</style>\n<table border=\"1\" class=\"dataframe\">\n  <thead>\n    <tr style=\"text-align: right;\">\n      <th></th>\n      <th>type</th>\n      <th>c_score_1</th>\n      <th>c_score_2</th>\n      <th>c_score_3</th>\n      <th>c_score_4</th>\n      <th>c_score_5</th>\n      <th>c_score_6</th>\n    </tr>\n  </thead>\n  <tbody>\n    <tr>\n      <th>0</th>\n      <td>cities</td>\n      <td>3.25534</td>\n      <td>0.804854</td>\n      <td>NaN</td>\n      <td>NaN</td>\n      <td>NaN</td>\n      <td>NaN</td>\n    </tr>\n    <tr>\n      <th>1</th>\n      <td>corporates</td>\n      <td>NaN</td>\n      <td>NaN</td>\n      <td>2.524085</td>\n      <td>1.471676</td>\n      <td>1.398073</td>\n      <td>2.241233</td>\n    </tr>\n  </tbody>\n</table>\n</div>"
     },
     "metadata": {},
     "execution_count": 50
    }
   ],
   "source": [
    "data.head()"
   ]
  },
  {
   "cell_type": "code",
   "execution_count": 69,
   "metadata": {},
   "outputs": [],
   "source": [
    "gob = df.groupby(\"type\").mean()\n",
    "gob = gob.reset_index()\n",
    "gob = gob.loc[:, \"type\":\"e_score_11\" ]\n",
    "\n",
    "\n",
    "def plot_subscore(data, score_number):\n",
    "    cols = [\"type\"] + all_subs_scores[score_number] \n",
    "    data = data.loc[:, cols]\n",
    "\n",
    "    fig = px.bar(data, x=\"type\", y=cols[1:], barmode=\"group\")\n",
    "    fig.update_layout(legend=dict(\n",
    "        title_text='',\n",
    "        orientation=\"h\",\n",
    "        yanchor=\"bottom\",\n",
    "        y=1.02,\n",
    "        xanchor=\"right\",\n",
    "        x=1\n",
    "    ),\n",
    "    xaxis_title = \"\")\n",
    "\n",
    "    return fig"
   ]
  },
  {
   "cell_type": "code",
   "execution_count": 71,
   "metadata": {},
   "outputs": [
    {
     "output_type": "display_data",
     "data": {
      "application/vnd.plotly.v1+json": {
       "config": {
        "plotlyServerURL": "https://plot.ly"
       },
       "data": [
        {
         "alignmentgroup": "True",
         "hovertemplate": "variable=r_score_1<br>type=%{x}<br>value=%{y}<extra></extra>",
         "legendgroup": "r_score_1",
         "marker": {
          "color": "#636efa"
         },
         "name": "r_score_1",
         "offsetgroup": "r_score_1",
         "orientation": "v",
         "showlegend": true,
         "textposition": "auto",
         "type": "bar",
         "x": [
          "cities",
          "corporates"
         ],
         "xaxis": "x",
         "y": [
          1.370388349514563,
          null
         ],
         "yaxis": "y"
        },
        {
         "alignmentgroup": "True",
         "hovertemplate": "variable=r_score_2<br>type=%{x}<br>value=%{y}<extra></extra>",
         "legendgroup": "r_score_2",
         "marker": {
          "color": "#EF553B"
         },
         "name": "r_score_2",
         "offsetgroup": "r_score_2",
         "orientation": "v",
         "showlegend": true,
         "textposition": "auto",
         "type": "bar",
         "x": [
          "cities",
          "corporates"
         ],
         "xaxis": "x",
         "y": [
          1.429126213592233,
          null
         ],
         "yaxis": "y"
        },
        {
         "alignmentgroup": "True",
         "hovertemplate": "variable=r_score_3<br>type=%{x}<br>value=%{y}<extra></extra>",
         "legendgroup": "r_score_3",
         "marker": {
          "color": "#00cc96"
         },
         "name": "r_score_3",
         "offsetgroup": "r_score_3",
         "orientation": "v",
         "showlegend": true,
         "textposition": "auto",
         "type": "bar",
         "x": [
          "cities",
          "corporates"
         ],
         "xaxis": "x",
         "y": [
          2.2359223300970874,
          null
         ],
         "yaxis": "y"
        },
        {
         "alignmentgroup": "True",
         "hovertemplate": "variable=r_score_5<br>type=%{x}<br>value=%{y}<extra></extra>",
         "legendgroup": "r_score_5",
         "marker": {
          "color": "#ab63fa"
         },
         "name": "r_score_5",
         "offsetgroup": "r_score_5",
         "orientation": "v",
         "showlegend": true,
         "textposition": "auto",
         "type": "bar",
         "x": [
          "cities",
          "corporates"
         ],
         "xaxis": "x",
         "y": [
          null,
          3.61888246628131
         ],
         "yaxis": "y"
        },
        {
         "alignmentgroup": "True",
         "hovertemplate": "variable=r_score_6<br>type=%{x}<br>value=%{y}<extra></extra>",
         "legendgroup": "r_score_6",
         "marker": {
          "color": "#FFA15A"
         },
         "name": "r_score_6",
         "offsetgroup": "r_score_6",
         "orientation": "v",
         "showlegend": true,
         "textposition": "auto",
         "type": "bar",
         "x": [
          "cities",
          "corporates"
         ],
         "xaxis": "x",
         "y": [
          null,
          0.5842003853564547
         ],
         "yaxis": "y"
        },
        {
         "alignmentgroup": "True",
         "hovertemplate": "variable=r_score_7<br>type=%{x}<br>value=%{y}<extra></extra>",
         "legendgroup": "r_score_7",
         "marker": {
          "color": "#19d3f3"
         },
         "name": "r_score_7",
         "offsetgroup": "r_score_7",
         "orientation": "v",
         "showlegend": true,
         "textposition": "auto",
         "type": "bar",
         "x": [
          "cities",
          "corporates"
         ],
         "xaxis": "x",
         "y": [
          null,
          1.0982658959537572
         ],
         "yaxis": "y"
        }
       ],
       "layout": {
        "barmode": "group",
        "legend": {
         "orientation": "h",
         "title": {
          "text": ""
         },
         "tracegroupgap": 0,
         "x": 1,
         "xanchor": "right",
         "y": 1.02,
         "yanchor": "bottom"
        },
        "margin": {
         "t": 60
        },
        "template": {
         "data": {
          "bar": [
           {
            "error_x": {
             "color": "#2a3f5f"
            },
            "error_y": {
             "color": "#2a3f5f"
            },
            "marker": {
             "line": {
              "color": "#E5ECF6",
              "width": 0.5
             }
            },
            "type": "bar"
           }
          ],
          "barpolar": [
           {
            "marker": {
             "line": {
              "color": "#E5ECF6",
              "width": 0.5
             }
            },
            "type": "barpolar"
           }
          ],
          "carpet": [
           {
            "aaxis": {
             "endlinecolor": "#2a3f5f",
             "gridcolor": "white",
             "linecolor": "white",
             "minorgridcolor": "white",
             "startlinecolor": "#2a3f5f"
            },
            "baxis": {
             "endlinecolor": "#2a3f5f",
             "gridcolor": "white",
             "linecolor": "white",
             "minorgridcolor": "white",
             "startlinecolor": "#2a3f5f"
            },
            "type": "carpet"
           }
          ],
          "choropleth": [
           {
            "colorbar": {
             "outlinewidth": 0,
             "ticks": ""
            },
            "type": "choropleth"
           }
          ],
          "contour": [
           {
            "colorbar": {
             "outlinewidth": 0,
             "ticks": ""
            },
            "colorscale": [
             [
              0,
              "#0d0887"
             ],
             [
              0.1111111111111111,
              "#46039f"
             ],
             [
              0.2222222222222222,
              "#7201a8"
             ],
             [
              0.3333333333333333,
              "#9c179e"
             ],
             [
              0.4444444444444444,
              "#bd3786"
             ],
             [
              0.5555555555555556,
              "#d8576b"
             ],
             [
              0.6666666666666666,
              "#ed7953"
             ],
             [
              0.7777777777777778,
              "#fb9f3a"
             ],
             [
              0.8888888888888888,
              "#fdca26"
             ],
             [
              1,
              "#f0f921"
             ]
            ],
            "type": "contour"
           }
          ],
          "contourcarpet": [
           {
            "colorbar": {
             "outlinewidth": 0,
             "ticks": ""
            },
            "type": "contourcarpet"
           }
          ],
          "heatmap": [
           {
            "colorbar": {
             "outlinewidth": 0,
             "ticks": ""
            },
            "colorscale": [
             [
              0,
              "#0d0887"
             ],
             [
              0.1111111111111111,
              "#46039f"
             ],
             [
              0.2222222222222222,
              "#7201a8"
             ],
             [
              0.3333333333333333,
              "#9c179e"
             ],
             [
              0.4444444444444444,
              "#bd3786"
             ],
             [
              0.5555555555555556,
              "#d8576b"
             ],
             [
              0.6666666666666666,
              "#ed7953"
             ],
             [
              0.7777777777777778,
              "#fb9f3a"
             ],
             [
              0.8888888888888888,
              "#fdca26"
             ],
             [
              1,
              "#f0f921"
             ]
            ],
            "type": "heatmap"
           }
          ],
          "heatmapgl": [
           {
            "colorbar": {
             "outlinewidth": 0,
             "ticks": ""
            },
            "colorscale": [
             [
              0,
              "#0d0887"
             ],
             [
              0.1111111111111111,
              "#46039f"
             ],
             [
              0.2222222222222222,
              "#7201a8"
             ],
             [
              0.3333333333333333,
              "#9c179e"
             ],
             [
              0.4444444444444444,
              "#bd3786"
             ],
             [
              0.5555555555555556,
              "#d8576b"
             ],
             [
              0.6666666666666666,
              "#ed7953"
             ],
             [
              0.7777777777777778,
              "#fb9f3a"
             ],
             [
              0.8888888888888888,
              "#fdca26"
             ],
             [
              1,
              "#f0f921"
             ]
            ],
            "type": "heatmapgl"
           }
          ],
          "histogram": [
           {
            "marker": {
             "colorbar": {
              "outlinewidth": 0,
              "ticks": ""
             }
            },
            "type": "histogram"
           }
          ],
          "histogram2d": [
           {
            "colorbar": {
             "outlinewidth": 0,
             "ticks": ""
            },
            "colorscale": [
             [
              0,
              "#0d0887"
             ],
             [
              0.1111111111111111,
              "#46039f"
             ],
             [
              0.2222222222222222,
              "#7201a8"
             ],
             [
              0.3333333333333333,
              "#9c179e"
             ],
             [
              0.4444444444444444,
              "#bd3786"
             ],
             [
              0.5555555555555556,
              "#d8576b"
             ],
             [
              0.6666666666666666,
              "#ed7953"
             ],
             [
              0.7777777777777778,
              "#fb9f3a"
             ],
             [
              0.8888888888888888,
              "#fdca26"
             ],
             [
              1,
              "#f0f921"
             ]
            ],
            "type": "histogram2d"
           }
          ],
          "histogram2dcontour": [
           {
            "colorbar": {
             "outlinewidth": 0,
             "ticks": ""
            },
            "colorscale": [
             [
              0,
              "#0d0887"
             ],
             [
              0.1111111111111111,
              "#46039f"
             ],
             [
              0.2222222222222222,
              "#7201a8"
             ],
             [
              0.3333333333333333,
              "#9c179e"
             ],
             [
              0.4444444444444444,
              "#bd3786"
             ],
             [
              0.5555555555555556,
              "#d8576b"
             ],
             [
              0.6666666666666666,
              "#ed7953"
             ],
             [
              0.7777777777777778,
              "#fb9f3a"
             ],
             [
              0.8888888888888888,
              "#fdca26"
             ],
             [
              1,
              "#f0f921"
             ]
            ],
            "type": "histogram2dcontour"
           }
          ],
          "mesh3d": [
           {
            "colorbar": {
             "outlinewidth": 0,
             "ticks": ""
            },
            "type": "mesh3d"
           }
          ],
          "parcoords": [
           {
            "line": {
             "colorbar": {
              "outlinewidth": 0,
              "ticks": ""
             }
            },
            "type": "parcoords"
           }
          ],
          "pie": [
           {
            "automargin": true,
            "type": "pie"
           }
          ],
          "scatter": [
           {
            "marker": {
             "colorbar": {
              "outlinewidth": 0,
              "ticks": ""
             }
            },
            "type": "scatter"
           }
          ],
          "scatter3d": [
           {
            "line": {
             "colorbar": {
              "outlinewidth": 0,
              "ticks": ""
             }
            },
            "marker": {
             "colorbar": {
              "outlinewidth": 0,
              "ticks": ""
             }
            },
            "type": "scatter3d"
           }
          ],
          "scattercarpet": [
           {
            "marker": {
             "colorbar": {
              "outlinewidth": 0,
              "ticks": ""
             }
            },
            "type": "scattercarpet"
           }
          ],
          "scattergeo": [
           {
            "marker": {
             "colorbar": {
              "outlinewidth": 0,
              "ticks": ""
             }
            },
            "type": "scattergeo"
           }
          ],
          "scattergl": [
           {
            "marker": {
             "colorbar": {
              "outlinewidth": 0,
              "ticks": ""
             }
            },
            "type": "scattergl"
           }
          ],
          "scattermapbox": [
           {
            "marker": {
             "colorbar": {
              "outlinewidth": 0,
              "ticks": ""
             }
            },
            "type": "scattermapbox"
           }
          ],
          "scatterpolar": [
           {
            "marker": {
             "colorbar": {
              "outlinewidth": 0,
              "ticks": ""
             }
            },
            "type": "scatterpolar"
           }
          ],
          "scatterpolargl": [
           {
            "marker": {
             "colorbar": {
              "outlinewidth": 0,
              "ticks": ""
             }
            },
            "type": "scatterpolargl"
           }
          ],
          "scatterternary": [
           {
            "marker": {
             "colorbar": {
              "outlinewidth": 0,
              "ticks": ""
             }
            },
            "type": "scatterternary"
           }
          ],
          "surface": [
           {
            "colorbar": {
             "outlinewidth": 0,
             "ticks": ""
            },
            "colorscale": [
             [
              0,
              "#0d0887"
             ],
             [
              0.1111111111111111,
              "#46039f"
             ],
             [
              0.2222222222222222,
              "#7201a8"
             ],
             [
              0.3333333333333333,
              "#9c179e"
             ],
             [
              0.4444444444444444,
              "#bd3786"
             ],
             [
              0.5555555555555556,
              "#d8576b"
             ],
             [
              0.6666666666666666,
              "#ed7953"
             ],
             [
              0.7777777777777778,
              "#fb9f3a"
             ],
             [
              0.8888888888888888,
              "#fdca26"
             ],
             [
              1,
              "#f0f921"
             ]
            ],
            "type": "surface"
           }
          ],
          "table": [
           {
            "cells": {
             "fill": {
              "color": "#EBF0F8"
             },
             "line": {
              "color": "white"
             }
            },
            "header": {
             "fill": {
              "color": "#C8D4E3"
             },
             "line": {
              "color": "white"
             }
            },
            "type": "table"
           }
          ]
         },
         "layout": {
          "annotationdefaults": {
           "arrowcolor": "#2a3f5f",
           "arrowhead": 0,
           "arrowwidth": 1
          },
          "coloraxis": {
           "colorbar": {
            "outlinewidth": 0,
            "ticks": ""
           }
          },
          "colorscale": {
           "diverging": [
            [
             0,
             "#8e0152"
            ],
            [
             0.1,
             "#c51b7d"
            ],
            [
             0.2,
             "#de77ae"
            ],
            [
             0.3,
             "#f1b6da"
            ],
            [
             0.4,
             "#fde0ef"
            ],
            [
             0.5,
             "#f7f7f7"
            ],
            [
             0.6,
             "#e6f5d0"
            ],
            [
             0.7,
             "#b8e186"
            ],
            [
             0.8,
             "#7fbc41"
            ],
            [
             0.9,
             "#4d9221"
            ],
            [
             1,
             "#276419"
            ]
           ],
           "sequential": [
            [
             0,
             "#0d0887"
            ],
            [
             0.1111111111111111,
             "#46039f"
            ],
            [
             0.2222222222222222,
             "#7201a8"
            ],
            [
             0.3333333333333333,
             "#9c179e"
            ],
            [
             0.4444444444444444,
             "#bd3786"
            ],
            [
             0.5555555555555556,
             "#d8576b"
            ],
            [
             0.6666666666666666,
             "#ed7953"
            ],
            [
             0.7777777777777778,
             "#fb9f3a"
            ],
            [
             0.8888888888888888,
             "#fdca26"
            ],
            [
             1,
             "#f0f921"
            ]
           ],
           "sequentialminus": [
            [
             0,
             "#0d0887"
            ],
            [
             0.1111111111111111,
             "#46039f"
            ],
            [
             0.2222222222222222,
             "#7201a8"
            ],
            [
             0.3333333333333333,
             "#9c179e"
            ],
            [
             0.4444444444444444,
             "#bd3786"
            ],
            [
             0.5555555555555556,
             "#d8576b"
            ],
            [
             0.6666666666666666,
             "#ed7953"
            ],
            [
             0.7777777777777778,
             "#fb9f3a"
            ],
            [
             0.8888888888888888,
             "#fdca26"
            ],
            [
             1,
             "#f0f921"
            ]
           ]
          },
          "colorway": [
           "#636efa",
           "#EF553B",
           "#00cc96",
           "#ab63fa",
           "#FFA15A",
           "#19d3f3",
           "#FF6692",
           "#B6E880",
           "#FF97FF",
           "#FECB52"
          ],
          "font": {
           "color": "#2a3f5f"
          },
          "geo": {
           "bgcolor": "white",
           "lakecolor": "white",
           "landcolor": "#E5ECF6",
           "showlakes": true,
           "showland": true,
           "subunitcolor": "white"
          },
          "hoverlabel": {
           "align": "left"
          },
          "hovermode": "closest",
          "mapbox": {
           "style": "light"
          },
          "paper_bgcolor": "white",
          "plot_bgcolor": "#E5ECF6",
          "polar": {
           "angularaxis": {
            "gridcolor": "white",
            "linecolor": "white",
            "ticks": ""
           },
           "bgcolor": "#E5ECF6",
           "radialaxis": {
            "gridcolor": "white",
            "linecolor": "white",
            "ticks": ""
           }
          },
          "scene": {
           "xaxis": {
            "backgroundcolor": "#E5ECF6",
            "gridcolor": "white",
            "gridwidth": 2,
            "linecolor": "white",
            "showbackground": true,
            "ticks": "",
            "zerolinecolor": "white"
           },
           "yaxis": {
            "backgroundcolor": "#E5ECF6",
            "gridcolor": "white",
            "gridwidth": 2,
            "linecolor": "white",
            "showbackground": true,
            "ticks": "",
            "zerolinecolor": "white"
           },
           "zaxis": {
            "backgroundcolor": "#E5ECF6",
            "gridcolor": "white",
            "gridwidth": 2,
            "linecolor": "white",
            "showbackground": true,
            "ticks": "",
            "zerolinecolor": "white"
           }
          },
          "shapedefaults": {
           "line": {
            "color": "#2a3f5f"
           }
          },
          "ternary": {
           "aaxis": {
            "gridcolor": "white",
            "linecolor": "white",
            "ticks": ""
           },
           "baxis": {
            "gridcolor": "white",
            "linecolor": "white",
            "ticks": ""
           },
           "bgcolor": "#E5ECF6",
           "caxis": {
            "gridcolor": "white",
            "linecolor": "white",
            "ticks": ""
           }
          },
          "title": {
           "x": 0.05
          },
          "xaxis": {
           "automargin": true,
           "gridcolor": "white",
           "linecolor": "white",
           "ticks": "",
           "title": {
            "standoff": 15
           },
           "zerolinecolor": "white",
           "zerolinewidth": 2
          },
          "yaxis": {
           "automargin": true,
           "gridcolor": "white",
           "linecolor": "white",
           "ticks": "",
           "title": {
            "standoff": 15
           },
           "zerolinecolor": "white",
           "zerolinewidth": 2
          }
         }
        },
        "xaxis": {
         "anchor": "y",
         "domain": [
          0,
          1
         ],
         "title": {
          "text": ""
         }
        },
        "yaxis": {
         "anchor": "x",
         "domain": [
          0,
          1
         ],
         "title": {
          "text": "value"
         }
        }
       }
      }
     },
     "metadata": {}
    }
   ],
   "source": [
    "plot_subscore(gob, 3)"
   ]
  }
 ]
}