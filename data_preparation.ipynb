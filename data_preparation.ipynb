{
 "metadata": {
  "language_info": {
   "codemirror_mode": {
    "name": "ipython",
    "version": 3
   },
   "file_extension": ".py",
   "mimetype": "text/x-python",
   "name": "python",
   "nbconvert_exporter": "python",
   "pygments_lexer": "ipython3",
   "version": "3.8.3-final"
  },
  "orig_nbformat": 2,
  "kernelspec": {
   "name": "Python 3.8.3 64-bit ('venv')",
   "display_name": "Python 3.8.3 64-bit ('venv')",
   "metadata": {
    "interpreter": {
     "hash": "b3b17fe975ddf2dd0da0130e3ffd26b5ec7c29b380370fdbbb5db22560381f8c"
    }
   }
  }
 },
 "nbformat": 4,
 "nbformat_minor": 2,
 "cells": [
  {
   "cell_type": "code",
   "execution_count": 1,
   "metadata": {},
   "outputs": [],
   "source": [
    "import pandas as pd\n",
    "import numpy as np"
   ]
  },
  {
   "cell_type": "code",
   "execution_count": 2,
   "metadata": {},
   "outputs": [],
   "source": [
    "df = pd.read_pickle(\"datasets/all_scores.pkl\")"
   ]
  },
  {
   "cell_type": "code",
   "execution_count": 3,
   "metadata": {},
   "outputs": [
    {
     "output_type": "execute_result",
     "data": {
      "text/plain": [
       "     type     theme  year  account_number  public                      entity  \\\n",
       "0  cities  combined  2018           58671  public                   Helsingør   \n",
       "1  cities  combined  2018           59167  public                 Providencia   \n",
       "2  cities  combined  2018           50553  public                      Fresno   \n",
       "3  cities  combined  2018          826407  public                   Mirandela   \n",
       "4  cities  combined  2018           60375  public  Archipiélago de San Andrés   \n",
       "\n",
       "                    country         region  s_score_1  s_score_2  ...  \\\n",
       "0                   Denmark         Europe        NaN        NaN  ...   \n",
       "1                     Chile  Latin America        3.0        NaN  ...   \n",
       "2  United States of America  North America        5.0        NaN  ...   \n",
       "3                  Portugal         Europe        5.0        NaN  ...   \n",
       "4                  Colombia  Latin America        3.0        NaN  ...   \n",
       "\n",
       "   o_score_5  o_score_6  o_score_7  r_score_5  r_score_6  r_score_7  \\\n",
       "0        NaN        NaN        NaN        NaN        NaN        NaN   \n",
       "1        NaN        NaN        NaN        NaN        NaN        NaN   \n",
       "2        NaN        NaN        NaN        NaN        NaN        NaN   \n",
       "3        NaN        NaN        NaN        NaN        NaN        NaN   \n",
       "4        NaN        NaN        NaN        NaN        NaN        NaN   \n",
       "\n",
       "   e_score_8  e_score_9  e_score_10  e_score_11  \n",
       "0        NaN        NaN         NaN         NaN  \n",
       "1        NaN        NaN         NaN         NaN  \n",
       "2        NaN        NaN         NaN         NaN  \n",
       "3        NaN        NaN         NaN         NaN  \n",
       "4        NaN        NaN         NaN         NaN  \n",
       "\n",
       "[5 rows x 42 columns]"
      ],
      "text/html": "<div>\n<style scoped>\n    .dataframe tbody tr th:only-of-type {\n        vertical-align: middle;\n    }\n\n    .dataframe tbody tr th {\n        vertical-align: top;\n    }\n\n    .dataframe thead th {\n        text-align: right;\n    }\n</style>\n<table border=\"1\" class=\"dataframe\">\n  <thead>\n    <tr style=\"text-align: right;\">\n      <th></th>\n      <th>type</th>\n      <th>theme</th>\n      <th>year</th>\n      <th>account_number</th>\n      <th>public</th>\n      <th>entity</th>\n      <th>country</th>\n      <th>region</th>\n      <th>s_score_1</th>\n      <th>s_score_2</th>\n      <th>...</th>\n      <th>o_score_5</th>\n      <th>o_score_6</th>\n      <th>o_score_7</th>\n      <th>r_score_5</th>\n      <th>r_score_6</th>\n      <th>r_score_7</th>\n      <th>e_score_8</th>\n      <th>e_score_9</th>\n      <th>e_score_10</th>\n      <th>e_score_11</th>\n    </tr>\n  </thead>\n  <tbody>\n    <tr>\n      <th>0</th>\n      <td>cities</td>\n      <td>combined</td>\n      <td>2018</td>\n      <td>58671</td>\n      <td>public</td>\n      <td>Helsingør</td>\n      <td>Denmark</td>\n      <td>Europe</td>\n      <td>NaN</td>\n      <td>NaN</td>\n      <td>...</td>\n      <td>NaN</td>\n      <td>NaN</td>\n      <td>NaN</td>\n      <td>NaN</td>\n      <td>NaN</td>\n      <td>NaN</td>\n      <td>NaN</td>\n      <td>NaN</td>\n      <td>NaN</td>\n      <td>NaN</td>\n    </tr>\n    <tr>\n      <th>1</th>\n      <td>cities</td>\n      <td>combined</td>\n      <td>2018</td>\n      <td>59167</td>\n      <td>public</td>\n      <td>Providencia</td>\n      <td>Chile</td>\n      <td>Latin America</td>\n      <td>3.0</td>\n      <td>NaN</td>\n      <td>...</td>\n      <td>NaN</td>\n      <td>NaN</td>\n      <td>NaN</td>\n      <td>NaN</td>\n      <td>NaN</td>\n      <td>NaN</td>\n      <td>NaN</td>\n      <td>NaN</td>\n      <td>NaN</td>\n      <td>NaN</td>\n    </tr>\n    <tr>\n      <th>2</th>\n      <td>cities</td>\n      <td>combined</td>\n      <td>2018</td>\n      <td>50553</td>\n      <td>public</td>\n      <td>Fresno</td>\n      <td>United States of America</td>\n      <td>North America</td>\n      <td>5.0</td>\n      <td>NaN</td>\n      <td>...</td>\n      <td>NaN</td>\n      <td>NaN</td>\n      <td>NaN</td>\n      <td>NaN</td>\n      <td>NaN</td>\n      <td>NaN</td>\n      <td>NaN</td>\n      <td>NaN</td>\n      <td>NaN</td>\n      <td>NaN</td>\n    </tr>\n    <tr>\n      <th>3</th>\n      <td>cities</td>\n      <td>combined</td>\n      <td>2018</td>\n      <td>826407</td>\n      <td>public</td>\n      <td>Mirandela</td>\n      <td>Portugal</td>\n      <td>Europe</td>\n      <td>5.0</td>\n      <td>NaN</td>\n      <td>...</td>\n      <td>NaN</td>\n      <td>NaN</td>\n      <td>NaN</td>\n      <td>NaN</td>\n      <td>NaN</td>\n      <td>NaN</td>\n      <td>NaN</td>\n      <td>NaN</td>\n      <td>NaN</td>\n      <td>NaN</td>\n    </tr>\n    <tr>\n      <th>4</th>\n      <td>cities</td>\n      <td>combined</td>\n      <td>2018</td>\n      <td>60375</td>\n      <td>public</td>\n      <td>Archipiélago de San Andrés</td>\n      <td>Colombia</td>\n      <td>Latin America</td>\n      <td>3.0</td>\n      <td>NaN</td>\n      <td>...</td>\n      <td>NaN</td>\n      <td>NaN</td>\n      <td>NaN</td>\n      <td>NaN</td>\n      <td>NaN</td>\n      <td>NaN</td>\n      <td>NaN</td>\n      <td>NaN</td>\n      <td>NaN</td>\n      <td>NaN</td>\n    </tr>\n  </tbody>\n</table>\n<p>5 rows × 42 columns</p>\n</div>"
     },
     "metadata": {},
     "execution_count": 3
    }
   ],
   "source": [
    "df = df.replace({\"0\":np.nan, 0:np.nan})\n",
    "df.head()"
   ]
  },
  {
   "cell_type": "code",
   "execution_count": 4,
   "metadata": {},
   "outputs": [],
   "source": [
    "countries=pd.read_csv(\"datasets/countries_iso3166-1_alpha3.csv\", delimiter=\";\")"
   ]
  },
  {
   "cell_type": "code",
   "execution_count": 5,
   "metadata": {},
   "outputs": [],
   "source": [
    "countries = countries.loc[:,[\"Country\", \"Alpha-3 code\"]]"
   ]
  },
  {
   "cell_type": "code",
   "execution_count": 6,
   "metadata": {},
   "outputs": [],
   "source": [
    "df = df.merge(countries, left_on=\"country\", right_on=\"Country\")\n",
    "df.rename(columns={\"Alpha-3 code\":\"alpha3code\"}, inplace=True) "
   ]
  },
  {
   "cell_type": "code",
   "execution_count": 7,
   "metadata": {},
   "outputs": [],
   "source": [
    "df[\"s_score_total\"] = df.loc[:,[\"s_score_1\", \"s_score_2\"]].mean(axis=1)\n",
    "df[\"c_score_total\"] = df.loc[:,[\"c_score_1\", \"c_score_2\", \"c_score_3\", \"c_score_4\", \"c_score_5\", \"c_score_6\",]].mean(axis=1)\n",
    "df[\"o_score_total\"] = df.loc[:,[\"o_score_1\", \"o_score_2\", \"o_score_3\", \"o_score_4\", \"o_score_5\", \"o_score_6\", \"o_score_7\"]].mean(axis=1)\n",
    "df[\"r_score_total\"] = df.loc[:,[\"r_score_1\", \"r_score_2\", \"r_score_3\", \"r_score_4\", \"r_score_5\", \"r_score_6\", \"r_score_7\"]].mean(axis=1)\n",
    "df[\"e_score_total\"] = df.loc[:,[\"e_score_1\", \"e_score_2\", \"e_score_3\", \"e_score_4\", \"e_score_6\", \"e_score_7\", \"e_score_8\", \"e_score_9\", \"e_score_10\", \"e_score_11\"]].mean(axis=1)\n",
    "df[\"em_score_total\"] = df.loc[:,[\"em_score_1\", \"em_score_2\"]].mean(axis=1)\n",
    "\n"
   ]
  },
  {
   "cell_type": "code",
   "execution_count": 8,
   "metadata": {},
   "outputs": [],
   "source": [
    "cis = df.query(\"type=='cid'\")\n",
    "cis = cis.dropna(axis=\"columns\", how=\"all\")\n",
    "cis.to_pickle(\"datasets/cities.pkl\", protocol=3)"
   ]
  },
  {
   "cell_type": "code",
   "execution_count": 9,
   "metadata": {},
   "outputs": [],
   "source": [
    "cos = df.query(\"type == 'cod'\")\n",
    "cos = cos.dropna(axis=\"columns\", how=\"all\")\n",
    "cos.to_pickle(\"datasets/corporates.pkl\", protocol=3)"
   ]
  },
  {
   "cell_type": "code",
   "execution_count": 10,
   "metadata": {},
   "outputs": [],
   "source": [
    "df.to_pickle(\"datasets/complete_score.pkl\", protocol=3)"
   ]
  },
  {
   "cell_type": "code",
   "execution_count": 11,
   "metadata": {},
   "outputs": [
    {
     "output_type": "execute_result",
     "data": {
      "text/plain": [
       "                        0           1               2           3         4  \\\n",
       "type               cities      cities          cities      cities    cities   \n",
       "theme            combined    combined        combined    combined  combined   \n",
       "year                 2018        2018            2018        2018      2018   \n",
       "account_number      58671       31009           58489       54405     63615   \n",
       "public             public      public          public  non public    public   \n",
       "entity          Helsingør  Copenhagen  Hoeje-Taastrup       Vejle  Hillerød   \n",
       "country           Denmark     Denmark         Denmark     Denmark   Denmark   \n",
       "region             Europe      Europe          Europe      Europe    Europe   \n",
       "s_score_1             NaN         NaN             NaN         NaN       NaN   \n",
       "s_score_2             NaN         NaN             NaN         NaN       NaN   \n",
       "c_score_1               5           5               5         NaN         5   \n",
       "c_score_2               1         NaN               1         NaN       NaN   \n",
       "o_score_1             NaN         NaN             NaN         NaN       NaN   \n",
       "o_score_2             NaN         NaN             NaN         NaN       NaN   \n",
       "r_score_1             NaN         NaN             NaN         NaN       NaN   \n",
       "r_score_2             NaN         NaN             NaN         NaN       NaN   \n",
       "r_score_3             NaN         NaN             NaN         NaN       NaN   \n",
       "r_score_4             NaN         NaN             NaN         NaN       NaN   \n",
       "e_score_1               5           5               5         NaN         5   \n",
       "e_score_2             NaN         NaN             NaN         NaN       NaN   \n",
       "e_score_3               5           5               5         NaN         5   \n",
       "e_score_4               5           5               5         NaN         5   \n",
       "e_score_6             NaN         NaN             NaN         NaN       NaN   \n",
       "e_score_7             NaN         NaN             NaN         NaN       NaN   \n",
       "em_score_1            NaN         NaN               5         NaN       NaN   \n",
       "em_score_2            NaN         NaN               5         NaN       NaN   \n",
       "c_score_3             NaN         NaN             NaN         NaN       NaN   \n",
       "c_score_4             NaN         NaN             NaN         NaN       NaN   \n",
       "c_score_5             NaN         NaN             NaN         NaN       NaN   \n",
       "c_score_6             NaN         NaN             NaN         NaN       NaN   \n",
       "o_score_3             NaN         NaN             NaN         NaN       NaN   \n",
       "o_score_4             NaN         NaN             NaN         NaN       NaN   \n",
       "o_score_5             NaN         NaN             NaN         NaN       NaN   \n",
       "o_score_6             NaN         NaN             NaN         NaN       NaN   \n",
       "o_score_7             NaN         NaN             NaN         NaN       NaN   \n",
       "r_score_5             NaN         NaN             NaN         NaN       NaN   \n",
       "r_score_6             NaN         NaN             NaN         NaN       NaN   \n",
       "r_score_7             NaN         NaN             NaN         NaN       NaN   \n",
       "e_score_8             NaN         NaN             NaN         NaN       NaN   \n",
       "e_score_9             NaN         NaN             NaN         NaN       NaN   \n",
       "e_score_10            NaN         NaN             NaN         NaN       NaN   \n",
       "e_score_11            NaN         NaN             NaN         NaN       NaN   \n",
       "Country           Denmark     Denmark         Denmark     Denmark   Denmark   \n",
       "alpha3code            DNK         DNK             DNK         DNK       DNK   \n",
       "s_score_total         NaN         NaN             NaN         NaN       NaN   \n",
       "c_score_total           3           5               3         NaN         5   \n",
       "o_score_total         NaN         NaN             NaN         NaN       NaN   \n",
       "r_score_total         NaN         NaN             NaN         NaN       NaN   \n",
       "e_score_total           5           5               5         NaN         5   \n",
       "em_score_total        NaN         NaN               5         NaN       NaN   \n",
       "\n",
       "                         5         6         7           8         9  \n",
       "type                cities    cities    cities      cities    cities  \n",
       "theme             combined  combined  combined    combined  combined  \n",
       "year                  2018      2018      2018        2018      2018  \n",
       "account_number       58865     62855     58797       63542     58796  \n",
       "public              public    public    public  non public    public  \n",
       "entity          Jammerbugt    Egedal  Hørsholm       Lejre     Odder  \n",
       "country            Denmark   Denmark   Denmark     Denmark   Denmark  \n",
       "region              Europe    Europe    Europe      Europe    Europe  \n",
       "s_score_1              NaN       NaN         5         NaN       NaN  \n",
       "s_score_2              NaN       NaN       NaN         NaN       NaN  \n",
       "c_score_1              NaN         5         5         NaN         1  \n",
       "c_score_2              NaN         2         2         NaN       NaN  \n",
       "o_score_1              NaN       NaN         5         NaN       NaN  \n",
       "o_score_2              NaN       NaN       NaN         NaN       NaN  \n",
       "r_score_1              NaN       NaN       NaN         NaN       NaN  \n",
       "r_score_2              NaN       NaN       NaN         NaN       NaN  \n",
       "r_score_3              NaN       NaN       NaN         NaN       NaN  \n",
       "r_score_4              NaN       NaN       NaN         NaN       NaN  \n",
       "e_score_1                2         4         5         NaN         5  \n",
       "e_score_2              NaN       NaN       NaN         NaN       NaN  \n",
       "e_score_3                5         5         5         NaN         5  \n",
       "e_score_4                5         5         5         NaN         5  \n",
       "e_score_6              NaN       NaN       NaN         NaN       NaN  \n",
       "e_score_7              NaN       NaN       NaN         NaN       NaN  \n",
       "em_score_1             NaN         4         5         NaN       NaN  \n",
       "em_score_2             NaN         3         4         NaN       NaN  \n",
       "c_score_3              NaN       NaN       NaN         NaN       NaN  \n",
       "c_score_4              NaN       NaN       NaN         NaN       NaN  \n",
       "c_score_5              NaN       NaN       NaN         NaN       NaN  \n",
       "c_score_6              NaN       NaN       NaN         NaN       NaN  \n",
       "o_score_3              NaN       NaN       NaN         NaN       NaN  \n",
       "o_score_4              NaN       NaN       NaN         NaN       NaN  \n",
       "o_score_5              NaN       NaN       NaN         NaN       NaN  \n",
       "o_score_6              NaN       NaN       NaN         NaN       NaN  \n",
       "o_score_7              NaN       NaN       NaN         NaN       NaN  \n",
       "r_score_5              NaN       NaN       NaN         NaN       NaN  \n",
       "r_score_6              NaN       NaN       NaN         NaN       NaN  \n",
       "r_score_7              NaN       NaN       NaN         NaN       NaN  \n",
       "e_score_8              NaN       NaN       NaN         NaN       NaN  \n",
       "e_score_9              NaN       NaN       NaN         NaN       NaN  \n",
       "e_score_10             NaN       NaN       NaN         NaN       NaN  \n",
       "e_score_11             NaN       NaN       NaN         NaN       NaN  \n",
       "Country            Denmark   Denmark   Denmark     Denmark   Denmark  \n",
       "alpha3code             DNK       DNK       DNK         DNK       DNK  \n",
       "s_score_total          NaN       NaN         5         NaN       NaN  \n",
       "c_score_total          NaN       3.5       3.5         NaN         1  \n",
       "o_score_total          NaN       NaN         5         NaN       NaN  \n",
       "r_score_total          NaN       NaN       NaN         NaN       NaN  \n",
       "e_score_total            4   4.66667         5         NaN         5  \n",
       "em_score_total         NaN       3.5       4.5         NaN       NaN  "
      ],
      "text/html": "<div>\n<style scoped>\n    .dataframe tbody tr th:only-of-type {\n        vertical-align: middle;\n    }\n\n    .dataframe tbody tr th {\n        vertical-align: top;\n    }\n\n    .dataframe thead th {\n        text-align: right;\n    }\n</style>\n<table border=\"1\" class=\"dataframe\">\n  <thead>\n    <tr style=\"text-align: right;\">\n      <th></th>\n      <th>0</th>\n      <th>1</th>\n      <th>2</th>\n      <th>3</th>\n      <th>4</th>\n      <th>5</th>\n      <th>6</th>\n      <th>7</th>\n      <th>8</th>\n      <th>9</th>\n    </tr>\n  </thead>\n  <tbody>\n    <tr>\n      <th>type</th>\n      <td>cities</td>\n      <td>cities</td>\n      <td>cities</td>\n      <td>cities</td>\n      <td>cities</td>\n      <td>cities</td>\n      <td>cities</td>\n      <td>cities</td>\n      <td>cities</td>\n      <td>cities</td>\n    </tr>\n    <tr>\n      <th>theme</th>\n      <td>combined</td>\n      <td>combined</td>\n      <td>combined</td>\n      <td>combined</td>\n      <td>combined</td>\n      <td>combined</td>\n      <td>combined</td>\n      <td>combined</td>\n      <td>combined</td>\n      <td>combined</td>\n    </tr>\n    <tr>\n      <th>year</th>\n      <td>2018</td>\n      <td>2018</td>\n      <td>2018</td>\n      <td>2018</td>\n      <td>2018</td>\n      <td>2018</td>\n      <td>2018</td>\n      <td>2018</td>\n      <td>2018</td>\n      <td>2018</td>\n    </tr>\n    <tr>\n      <th>account_number</th>\n      <td>58671</td>\n      <td>31009</td>\n      <td>58489</td>\n      <td>54405</td>\n      <td>63615</td>\n      <td>58865</td>\n      <td>62855</td>\n      <td>58797</td>\n      <td>63542</td>\n      <td>58796</td>\n    </tr>\n    <tr>\n      <th>public</th>\n      <td>public</td>\n      <td>public</td>\n      <td>public</td>\n      <td>non public</td>\n      <td>public</td>\n      <td>public</td>\n      <td>public</td>\n      <td>public</td>\n      <td>non public</td>\n      <td>public</td>\n    </tr>\n    <tr>\n      <th>entity</th>\n      <td>Helsingør</td>\n      <td>Copenhagen</td>\n      <td>Hoeje-Taastrup</td>\n      <td>Vejle</td>\n      <td>Hillerød</td>\n      <td>Jammerbugt</td>\n      <td>Egedal</td>\n      <td>Hørsholm</td>\n      <td>Lejre</td>\n      <td>Odder</td>\n    </tr>\n    <tr>\n      <th>country</th>\n      <td>Denmark</td>\n      <td>Denmark</td>\n      <td>Denmark</td>\n      <td>Denmark</td>\n      <td>Denmark</td>\n      <td>Denmark</td>\n      <td>Denmark</td>\n      <td>Denmark</td>\n      <td>Denmark</td>\n      <td>Denmark</td>\n    </tr>\n    <tr>\n      <th>region</th>\n      <td>Europe</td>\n      <td>Europe</td>\n      <td>Europe</td>\n      <td>Europe</td>\n      <td>Europe</td>\n      <td>Europe</td>\n      <td>Europe</td>\n      <td>Europe</td>\n      <td>Europe</td>\n      <td>Europe</td>\n    </tr>\n    <tr>\n      <th>s_score_1</th>\n      <td>NaN</td>\n      <td>NaN</td>\n      <td>NaN</td>\n      <td>NaN</td>\n      <td>NaN</td>\n      <td>NaN</td>\n      <td>NaN</td>\n      <td>5</td>\n      <td>NaN</td>\n      <td>NaN</td>\n    </tr>\n    <tr>\n      <th>s_score_2</th>\n      <td>NaN</td>\n      <td>NaN</td>\n      <td>NaN</td>\n      <td>NaN</td>\n      <td>NaN</td>\n      <td>NaN</td>\n      <td>NaN</td>\n      <td>NaN</td>\n      <td>NaN</td>\n      <td>NaN</td>\n    </tr>\n    <tr>\n      <th>c_score_1</th>\n      <td>5</td>\n      <td>5</td>\n      <td>5</td>\n      <td>NaN</td>\n      <td>5</td>\n      <td>NaN</td>\n      <td>5</td>\n      <td>5</td>\n      <td>NaN</td>\n      <td>1</td>\n    </tr>\n    <tr>\n      <th>c_score_2</th>\n      <td>1</td>\n      <td>NaN</td>\n      <td>1</td>\n      <td>NaN</td>\n      <td>NaN</td>\n      <td>NaN</td>\n      <td>2</td>\n      <td>2</td>\n      <td>NaN</td>\n      <td>NaN</td>\n    </tr>\n    <tr>\n      <th>o_score_1</th>\n      <td>NaN</td>\n      <td>NaN</td>\n      <td>NaN</td>\n      <td>NaN</td>\n      <td>NaN</td>\n      <td>NaN</td>\n      <td>NaN</td>\n      <td>5</td>\n      <td>NaN</td>\n      <td>NaN</td>\n    </tr>\n    <tr>\n      <th>o_score_2</th>\n      <td>NaN</td>\n      <td>NaN</td>\n      <td>NaN</td>\n      <td>NaN</td>\n      <td>NaN</td>\n      <td>NaN</td>\n      <td>NaN</td>\n      <td>NaN</td>\n      <td>NaN</td>\n      <td>NaN</td>\n    </tr>\n    <tr>\n      <th>r_score_1</th>\n      <td>NaN</td>\n      <td>NaN</td>\n      <td>NaN</td>\n      <td>NaN</td>\n      <td>NaN</td>\n      <td>NaN</td>\n      <td>NaN</td>\n      <td>NaN</td>\n      <td>NaN</td>\n      <td>NaN</td>\n    </tr>\n    <tr>\n      <th>r_score_2</th>\n      <td>NaN</td>\n      <td>NaN</td>\n      <td>NaN</td>\n      <td>NaN</td>\n      <td>NaN</td>\n      <td>NaN</td>\n      <td>NaN</td>\n      <td>NaN</td>\n      <td>NaN</td>\n      <td>NaN</td>\n    </tr>\n    <tr>\n      <th>r_score_3</th>\n      <td>NaN</td>\n      <td>NaN</td>\n      <td>NaN</td>\n      <td>NaN</td>\n      <td>NaN</td>\n      <td>NaN</td>\n      <td>NaN</td>\n      <td>NaN</td>\n      <td>NaN</td>\n      <td>NaN</td>\n    </tr>\n    <tr>\n      <th>r_score_4</th>\n      <td>NaN</td>\n      <td>NaN</td>\n      <td>NaN</td>\n      <td>NaN</td>\n      <td>NaN</td>\n      <td>NaN</td>\n      <td>NaN</td>\n      <td>NaN</td>\n      <td>NaN</td>\n      <td>NaN</td>\n    </tr>\n    <tr>\n      <th>e_score_1</th>\n      <td>5</td>\n      <td>5</td>\n      <td>5</td>\n      <td>NaN</td>\n      <td>5</td>\n      <td>2</td>\n      <td>4</td>\n      <td>5</td>\n      <td>NaN</td>\n      <td>5</td>\n    </tr>\n    <tr>\n      <th>e_score_2</th>\n      <td>NaN</td>\n      <td>NaN</td>\n      <td>NaN</td>\n      <td>NaN</td>\n      <td>NaN</td>\n      <td>NaN</td>\n      <td>NaN</td>\n      <td>NaN</td>\n      <td>NaN</td>\n      <td>NaN</td>\n    </tr>\n    <tr>\n      <th>e_score_3</th>\n      <td>5</td>\n      <td>5</td>\n      <td>5</td>\n      <td>NaN</td>\n      <td>5</td>\n      <td>5</td>\n      <td>5</td>\n      <td>5</td>\n      <td>NaN</td>\n      <td>5</td>\n    </tr>\n    <tr>\n      <th>e_score_4</th>\n      <td>5</td>\n      <td>5</td>\n      <td>5</td>\n      <td>NaN</td>\n      <td>5</td>\n      <td>5</td>\n      <td>5</td>\n      <td>5</td>\n      <td>NaN</td>\n      <td>5</td>\n    </tr>\n    <tr>\n      <th>e_score_6</th>\n      <td>NaN</td>\n      <td>NaN</td>\n      <td>NaN</td>\n      <td>NaN</td>\n      <td>NaN</td>\n      <td>NaN</td>\n      <td>NaN</td>\n      <td>NaN</td>\n      <td>NaN</td>\n      <td>NaN</td>\n    </tr>\n    <tr>\n      <th>e_score_7</th>\n      <td>NaN</td>\n      <td>NaN</td>\n      <td>NaN</td>\n      <td>NaN</td>\n      <td>NaN</td>\n      <td>NaN</td>\n      <td>NaN</td>\n      <td>NaN</td>\n      <td>NaN</td>\n      <td>NaN</td>\n    </tr>\n    <tr>\n      <th>em_score_1</th>\n      <td>NaN</td>\n      <td>NaN</td>\n      <td>5</td>\n      <td>NaN</td>\n      <td>NaN</td>\n      <td>NaN</td>\n      <td>4</td>\n      <td>5</td>\n      <td>NaN</td>\n      <td>NaN</td>\n    </tr>\n    <tr>\n      <th>em_score_2</th>\n      <td>NaN</td>\n      <td>NaN</td>\n      <td>5</td>\n      <td>NaN</td>\n      <td>NaN</td>\n      <td>NaN</td>\n      <td>3</td>\n      <td>4</td>\n      <td>NaN</td>\n      <td>NaN</td>\n    </tr>\n    <tr>\n      <th>c_score_3</th>\n      <td>NaN</td>\n      <td>NaN</td>\n      <td>NaN</td>\n      <td>NaN</td>\n      <td>NaN</td>\n      <td>NaN</td>\n      <td>NaN</td>\n      <td>NaN</td>\n      <td>NaN</td>\n      <td>NaN</td>\n    </tr>\n    <tr>\n      <th>c_score_4</th>\n      <td>NaN</td>\n      <td>NaN</td>\n      <td>NaN</td>\n      <td>NaN</td>\n      <td>NaN</td>\n      <td>NaN</td>\n      <td>NaN</td>\n      <td>NaN</td>\n      <td>NaN</td>\n      <td>NaN</td>\n    </tr>\n    <tr>\n      <th>c_score_5</th>\n      <td>NaN</td>\n      <td>NaN</td>\n      <td>NaN</td>\n      <td>NaN</td>\n      <td>NaN</td>\n      <td>NaN</td>\n      <td>NaN</td>\n      <td>NaN</td>\n      <td>NaN</td>\n      <td>NaN</td>\n    </tr>\n    <tr>\n      <th>c_score_6</th>\n      <td>NaN</td>\n      <td>NaN</td>\n      <td>NaN</td>\n      <td>NaN</td>\n      <td>NaN</td>\n      <td>NaN</td>\n      <td>NaN</td>\n      <td>NaN</td>\n      <td>NaN</td>\n      <td>NaN</td>\n    </tr>\n    <tr>\n      <th>o_score_3</th>\n      <td>NaN</td>\n      <td>NaN</td>\n      <td>NaN</td>\n      <td>NaN</td>\n      <td>NaN</td>\n      <td>NaN</td>\n      <td>NaN</td>\n      <td>NaN</td>\n      <td>NaN</td>\n      <td>NaN</td>\n    </tr>\n    <tr>\n      <th>o_score_4</th>\n      <td>NaN</td>\n      <td>NaN</td>\n      <td>NaN</td>\n      <td>NaN</td>\n      <td>NaN</td>\n      <td>NaN</td>\n      <td>NaN</td>\n      <td>NaN</td>\n      <td>NaN</td>\n      <td>NaN</td>\n    </tr>\n    <tr>\n      <th>o_score_5</th>\n      <td>NaN</td>\n      <td>NaN</td>\n      <td>NaN</td>\n      <td>NaN</td>\n      <td>NaN</td>\n      <td>NaN</td>\n      <td>NaN</td>\n      <td>NaN</td>\n      <td>NaN</td>\n      <td>NaN</td>\n    </tr>\n    <tr>\n      <th>o_score_6</th>\n      <td>NaN</td>\n      <td>NaN</td>\n      <td>NaN</td>\n      <td>NaN</td>\n      <td>NaN</td>\n      <td>NaN</td>\n      <td>NaN</td>\n      <td>NaN</td>\n      <td>NaN</td>\n      <td>NaN</td>\n    </tr>\n    <tr>\n      <th>o_score_7</th>\n      <td>NaN</td>\n      <td>NaN</td>\n      <td>NaN</td>\n      <td>NaN</td>\n      <td>NaN</td>\n      <td>NaN</td>\n      <td>NaN</td>\n      <td>NaN</td>\n      <td>NaN</td>\n      <td>NaN</td>\n    </tr>\n    <tr>\n      <th>r_score_5</th>\n      <td>NaN</td>\n      <td>NaN</td>\n      <td>NaN</td>\n      <td>NaN</td>\n      <td>NaN</td>\n      <td>NaN</td>\n      <td>NaN</td>\n      <td>NaN</td>\n      <td>NaN</td>\n      <td>NaN</td>\n    </tr>\n    <tr>\n      <th>r_score_6</th>\n      <td>NaN</td>\n      <td>NaN</td>\n      <td>NaN</td>\n      <td>NaN</td>\n      <td>NaN</td>\n      <td>NaN</td>\n      <td>NaN</td>\n      <td>NaN</td>\n      <td>NaN</td>\n      <td>NaN</td>\n    </tr>\n    <tr>\n      <th>r_score_7</th>\n      <td>NaN</td>\n      <td>NaN</td>\n      <td>NaN</td>\n      <td>NaN</td>\n      <td>NaN</td>\n      <td>NaN</td>\n      <td>NaN</td>\n      <td>NaN</td>\n      <td>NaN</td>\n      <td>NaN</td>\n    </tr>\n    <tr>\n      <th>e_score_8</th>\n      <td>NaN</td>\n      <td>NaN</td>\n      <td>NaN</td>\n      <td>NaN</td>\n      <td>NaN</td>\n      <td>NaN</td>\n      <td>NaN</td>\n      <td>NaN</td>\n      <td>NaN</td>\n      <td>NaN</td>\n    </tr>\n    <tr>\n      <th>e_score_9</th>\n      <td>NaN</td>\n      <td>NaN</td>\n      <td>NaN</td>\n      <td>NaN</td>\n      <td>NaN</td>\n      <td>NaN</td>\n      <td>NaN</td>\n      <td>NaN</td>\n      <td>NaN</td>\n      <td>NaN</td>\n    </tr>\n    <tr>\n      <th>e_score_10</th>\n      <td>NaN</td>\n      <td>NaN</td>\n      <td>NaN</td>\n      <td>NaN</td>\n      <td>NaN</td>\n      <td>NaN</td>\n      <td>NaN</td>\n      <td>NaN</td>\n      <td>NaN</td>\n      <td>NaN</td>\n    </tr>\n    <tr>\n      <th>e_score_11</th>\n      <td>NaN</td>\n      <td>NaN</td>\n      <td>NaN</td>\n      <td>NaN</td>\n      <td>NaN</td>\n      <td>NaN</td>\n      <td>NaN</td>\n      <td>NaN</td>\n      <td>NaN</td>\n      <td>NaN</td>\n    </tr>\n    <tr>\n      <th>Country</th>\n      <td>Denmark</td>\n      <td>Denmark</td>\n      <td>Denmark</td>\n      <td>Denmark</td>\n      <td>Denmark</td>\n      <td>Denmark</td>\n      <td>Denmark</td>\n      <td>Denmark</td>\n      <td>Denmark</td>\n      <td>Denmark</td>\n    </tr>\n    <tr>\n      <th>alpha3code</th>\n      <td>DNK</td>\n      <td>DNK</td>\n      <td>DNK</td>\n      <td>DNK</td>\n      <td>DNK</td>\n      <td>DNK</td>\n      <td>DNK</td>\n      <td>DNK</td>\n      <td>DNK</td>\n      <td>DNK</td>\n    </tr>\n    <tr>\n      <th>s_score_total</th>\n      <td>NaN</td>\n      <td>NaN</td>\n      <td>NaN</td>\n      <td>NaN</td>\n      <td>NaN</td>\n      <td>NaN</td>\n      <td>NaN</td>\n      <td>5</td>\n      <td>NaN</td>\n      <td>NaN</td>\n    </tr>\n    <tr>\n      <th>c_score_total</th>\n      <td>3</td>\n      <td>5</td>\n      <td>3</td>\n      <td>NaN</td>\n      <td>5</td>\n      <td>NaN</td>\n      <td>3.5</td>\n      <td>3.5</td>\n      <td>NaN</td>\n      <td>1</td>\n    </tr>\n    <tr>\n      <th>o_score_total</th>\n      <td>NaN</td>\n      <td>NaN</td>\n      <td>NaN</td>\n      <td>NaN</td>\n      <td>NaN</td>\n      <td>NaN</td>\n      <td>NaN</td>\n      <td>5</td>\n      <td>NaN</td>\n      <td>NaN</td>\n    </tr>\n    <tr>\n      <th>r_score_total</th>\n      <td>NaN</td>\n      <td>NaN</td>\n      <td>NaN</td>\n      <td>NaN</td>\n      <td>NaN</td>\n      <td>NaN</td>\n      <td>NaN</td>\n      <td>NaN</td>\n      <td>NaN</td>\n      <td>NaN</td>\n    </tr>\n    <tr>\n      <th>e_score_total</th>\n      <td>5</td>\n      <td>5</td>\n      <td>5</td>\n      <td>NaN</td>\n      <td>5</td>\n      <td>4</td>\n      <td>4.66667</td>\n      <td>5</td>\n      <td>NaN</td>\n      <td>5</td>\n    </tr>\n    <tr>\n      <th>em_score_total</th>\n      <td>NaN</td>\n      <td>NaN</td>\n      <td>5</td>\n      <td>NaN</td>\n      <td>NaN</td>\n      <td>NaN</td>\n      <td>3.5</td>\n      <td>4.5</td>\n      <td>NaN</td>\n      <td>NaN</td>\n    </tr>\n  </tbody>\n</table>\n</div>"
     },
     "metadata": {},
     "execution_count": 11
    }
   ],
   "source": [
    "df.head(10).T"
   ]
  },
  {
   "cell_type": "code",
   "execution_count": 38,
   "metadata": {},
   "outputs": [],
   "source": [
    "import plotly.graph_objects as go"
   ]
  },
  {
   "cell_type": "code",
   "execution_count": 18,
   "metadata": {},
   "outputs": [],
   "source": [
    "df = pd.read_pickle(\"datasets/complete_score.pkl\")"
   ]
  },
  {
   "cell_type": "code",
   "execution_count": 20,
   "metadata": {},
   "outputs": [],
   "source": [
    "df[\"score_total\"] = df.loc[:,\"s_score_total\":\"em_score_total\"].mean(axis=1)"
   ]
  },
  {
   "cell_type": "code",
   "execution_count": 39,
   "metadata": {},
   "outputs": [
    {
     "output_type": "execute_result",
     "data": {
      "text/plain": [
       "1    10.8\n",
       "2    12.8\n",
       "3    30.7\n",
       "4    43.0\n",
       "5     2.8\n",
       "Name: score_total, dtype: float64"
      ]
     },
     "metadata": {},
     "execution_count": 39
    }
   ],
   "source": [
    "df.score_total\n",
    "score_bins = pd.cut(x = df.score_total, bins=[0,1.5,2.5,3.5,4.5,6], labels=[\"1\",\"2\",\"3\",\"4\",\"5\"])\n",
    "score_bins = round((score_bins.value_counts(normalize=True)*100),1)\n",
    "score_bins = score_bins.sort_index()\n",
    "score_bins"
   ]
  },
  {
   "cell_type": "code",
   "execution_count": 40,
   "metadata": {},
   "outputs": [
    {
     "output_type": "display_data",
     "data": {
      "application/vnd.plotly.v1+json": {
       "config": {
        "plotlyServerURL": "https://plot.ly"
       },
       "data": [
        {
         "hole": 0.3,
         "labels": [
          "1",
          "2",
          "3",
          "4",
          "5"
         ],
         "type": "pie",
         "values": [
          10.8,
          12.8,
          30.7,
          43,
          2.8
         ]
        }
       ],
       "layout": {
        "template": {
         "data": {
          "bar": [
           {
            "error_x": {
             "color": "#2a3f5f"
            },
            "error_y": {
             "color": "#2a3f5f"
            },
            "marker": {
             "line": {
              "color": "#E5ECF6",
              "width": 0.5
             }
            },
            "type": "bar"
           }
          ],
          "barpolar": [
           {
            "marker": {
             "line": {
              "color": "#E5ECF6",
              "width": 0.5
             }
            },
            "type": "barpolar"
           }
          ],
          "carpet": [
           {
            "aaxis": {
             "endlinecolor": "#2a3f5f",
             "gridcolor": "white",
             "linecolor": "white",
             "minorgridcolor": "white",
             "startlinecolor": "#2a3f5f"
            },
            "baxis": {
             "endlinecolor": "#2a3f5f",
             "gridcolor": "white",
             "linecolor": "white",
             "minorgridcolor": "white",
             "startlinecolor": "#2a3f5f"
            },
            "type": "carpet"
           }
          ],
          "choropleth": [
           {
            "colorbar": {
             "outlinewidth": 0,
             "ticks": ""
            },
            "type": "choropleth"
           }
          ],
          "contour": [
           {
            "colorbar": {
             "outlinewidth": 0,
             "ticks": ""
            },
            "colorscale": [
             [
              0,
              "#0d0887"
             ],
             [
              0.1111111111111111,
              "#46039f"
             ],
             [
              0.2222222222222222,
              "#7201a8"
             ],
             [
              0.3333333333333333,
              "#9c179e"
             ],
             [
              0.4444444444444444,
              "#bd3786"
             ],
             [
              0.5555555555555556,
              "#d8576b"
             ],
             [
              0.6666666666666666,
              "#ed7953"
             ],
             [
              0.7777777777777778,
              "#fb9f3a"
             ],
             [
              0.8888888888888888,
              "#fdca26"
             ],
             [
              1,
              "#f0f921"
             ]
            ],
            "type": "contour"
           }
          ],
          "contourcarpet": [
           {
            "colorbar": {
             "outlinewidth": 0,
             "ticks": ""
            },
            "type": "contourcarpet"
           }
          ],
          "heatmap": [
           {
            "colorbar": {
             "outlinewidth": 0,
             "ticks": ""
            },
            "colorscale": [
             [
              0,
              "#0d0887"
             ],
             [
              0.1111111111111111,
              "#46039f"
             ],
             [
              0.2222222222222222,
              "#7201a8"
             ],
             [
              0.3333333333333333,
              "#9c179e"
             ],
             [
              0.4444444444444444,
              "#bd3786"
             ],
             [
              0.5555555555555556,
              "#d8576b"
             ],
             [
              0.6666666666666666,
              "#ed7953"
             ],
             [
              0.7777777777777778,
              "#fb9f3a"
             ],
             [
              0.8888888888888888,
              "#fdca26"
             ],
             [
              1,
              "#f0f921"
             ]
            ],
            "type": "heatmap"
           }
          ],
          "heatmapgl": [
           {
            "colorbar": {
             "outlinewidth": 0,
             "ticks": ""
            },
            "colorscale": [
             [
              0,
              "#0d0887"
             ],
             [
              0.1111111111111111,
              "#46039f"
             ],
             [
              0.2222222222222222,
              "#7201a8"
             ],
             [
              0.3333333333333333,
              "#9c179e"
             ],
             [
              0.4444444444444444,
              "#bd3786"
             ],
             [
              0.5555555555555556,
              "#d8576b"
             ],
             [
              0.6666666666666666,
              "#ed7953"
             ],
             [
              0.7777777777777778,
              "#fb9f3a"
             ],
             [
              0.8888888888888888,
              "#fdca26"
             ],
             [
              1,
              "#f0f921"
             ]
            ],
            "type": "heatmapgl"
           }
          ],
          "histogram": [
           {
            "marker": {
             "colorbar": {
              "outlinewidth": 0,
              "ticks": ""
             }
            },
            "type": "histogram"
           }
          ],
          "histogram2d": [
           {
            "colorbar": {
             "outlinewidth": 0,
             "ticks": ""
            },
            "colorscale": [
             [
              0,
              "#0d0887"
             ],
             [
              0.1111111111111111,
              "#46039f"
             ],
             [
              0.2222222222222222,
              "#7201a8"
             ],
             [
              0.3333333333333333,
              "#9c179e"
             ],
             [
              0.4444444444444444,
              "#bd3786"
             ],
             [
              0.5555555555555556,
              "#d8576b"
             ],
             [
              0.6666666666666666,
              "#ed7953"
             ],
             [
              0.7777777777777778,
              "#fb9f3a"
             ],
             [
              0.8888888888888888,
              "#fdca26"
             ],
             [
              1,
              "#f0f921"
             ]
            ],
            "type": "histogram2d"
           }
          ],
          "histogram2dcontour": [
           {
            "colorbar": {
             "outlinewidth": 0,
             "ticks": ""
            },
            "colorscale": [
             [
              0,
              "#0d0887"
             ],
             [
              0.1111111111111111,
              "#46039f"
             ],
             [
              0.2222222222222222,
              "#7201a8"
             ],
             [
              0.3333333333333333,
              "#9c179e"
             ],
             [
              0.4444444444444444,
              "#bd3786"
             ],
             [
              0.5555555555555556,
              "#d8576b"
             ],
             [
              0.6666666666666666,
              "#ed7953"
             ],
             [
              0.7777777777777778,
              "#fb9f3a"
             ],
             [
              0.8888888888888888,
              "#fdca26"
             ],
             [
              1,
              "#f0f921"
             ]
            ],
            "type": "histogram2dcontour"
           }
          ],
          "mesh3d": [
           {
            "colorbar": {
             "outlinewidth": 0,
             "ticks": ""
            },
            "type": "mesh3d"
           }
          ],
          "parcoords": [
           {
            "line": {
             "colorbar": {
              "outlinewidth": 0,
              "ticks": ""
             }
            },
            "type": "parcoords"
           }
          ],
          "pie": [
           {
            "automargin": true,
            "type": "pie"
           }
          ],
          "scatter": [
           {
            "marker": {
             "colorbar": {
              "outlinewidth": 0,
              "ticks": ""
             }
            },
            "type": "scatter"
           }
          ],
          "scatter3d": [
           {
            "line": {
             "colorbar": {
              "outlinewidth": 0,
              "ticks": ""
             }
            },
            "marker": {
             "colorbar": {
              "outlinewidth": 0,
              "ticks": ""
             }
            },
            "type": "scatter3d"
           }
          ],
          "scattercarpet": [
           {
            "marker": {
             "colorbar": {
              "outlinewidth": 0,
              "ticks": ""
             }
            },
            "type": "scattercarpet"
           }
          ],
          "scattergeo": [
           {
            "marker": {
             "colorbar": {
              "outlinewidth": 0,
              "ticks": ""
             }
            },
            "type": "scattergeo"
           }
          ],
          "scattergl": [
           {
            "marker": {
             "colorbar": {
              "outlinewidth": 0,
              "ticks": ""
             }
            },
            "type": "scattergl"
           }
          ],
          "scattermapbox": [
           {
            "marker": {
             "colorbar": {
              "outlinewidth": 0,
              "ticks": ""
             }
            },
            "type": "scattermapbox"
           }
          ],
          "scatterpolar": [
           {
            "marker": {
             "colorbar": {
              "outlinewidth": 0,
              "ticks": ""
             }
            },
            "type": "scatterpolar"
           }
          ],
          "scatterpolargl": [
           {
            "marker": {
             "colorbar": {
              "outlinewidth": 0,
              "ticks": ""
             }
            },
            "type": "scatterpolargl"
           }
          ],
          "scatterternary": [
           {
            "marker": {
             "colorbar": {
              "outlinewidth": 0,
              "ticks": ""
             }
            },
            "type": "scatterternary"
           }
          ],
          "surface": [
           {
            "colorbar": {
             "outlinewidth": 0,
             "ticks": ""
            },
            "colorscale": [
             [
              0,
              "#0d0887"
             ],
             [
              0.1111111111111111,
              "#46039f"
             ],
             [
              0.2222222222222222,
              "#7201a8"
             ],
             [
              0.3333333333333333,
              "#9c179e"
             ],
             [
              0.4444444444444444,
              "#bd3786"
             ],
             [
              0.5555555555555556,
              "#d8576b"
             ],
             [
              0.6666666666666666,
              "#ed7953"
             ],
             [
              0.7777777777777778,
              "#fb9f3a"
             ],
             [
              0.8888888888888888,
              "#fdca26"
             ],
             [
              1,
              "#f0f921"
             ]
            ],
            "type": "surface"
           }
          ],
          "table": [
           {
            "cells": {
             "fill": {
              "color": "#EBF0F8"
             },
             "line": {
              "color": "white"
             }
            },
            "header": {
             "fill": {
              "color": "#C8D4E3"
             },
             "line": {
              "color": "white"
             }
            },
            "type": "table"
           }
          ]
         },
         "layout": {
          "annotationdefaults": {
           "arrowcolor": "#2a3f5f",
           "arrowhead": 0,
           "arrowwidth": 1
          },
          "coloraxis": {
           "colorbar": {
            "outlinewidth": 0,
            "ticks": ""
           }
          },
          "colorscale": {
           "diverging": [
            [
             0,
             "#8e0152"
            ],
            [
             0.1,
             "#c51b7d"
            ],
            [
             0.2,
             "#de77ae"
            ],
            [
             0.3,
             "#f1b6da"
            ],
            [
             0.4,
             "#fde0ef"
            ],
            [
             0.5,
             "#f7f7f7"
            ],
            [
             0.6,
             "#e6f5d0"
            ],
            [
             0.7,
             "#b8e186"
            ],
            [
             0.8,
             "#7fbc41"
            ],
            [
             0.9,
             "#4d9221"
            ],
            [
             1,
             "#276419"
            ]
           ],
           "sequential": [
            [
             0,
             "#0d0887"
            ],
            [
             0.1111111111111111,
             "#46039f"
            ],
            [
             0.2222222222222222,
             "#7201a8"
            ],
            [
             0.3333333333333333,
             "#9c179e"
            ],
            [
             0.4444444444444444,
             "#bd3786"
            ],
            [
             0.5555555555555556,
             "#d8576b"
            ],
            [
             0.6666666666666666,
             "#ed7953"
            ],
            [
             0.7777777777777778,
             "#fb9f3a"
            ],
            [
             0.8888888888888888,
             "#fdca26"
            ],
            [
             1,
             "#f0f921"
            ]
           ],
           "sequentialminus": [
            [
             0,
             "#0d0887"
            ],
            [
             0.1111111111111111,
             "#46039f"
            ],
            [
             0.2222222222222222,
             "#7201a8"
            ],
            [
             0.3333333333333333,
             "#9c179e"
            ],
            [
             0.4444444444444444,
             "#bd3786"
            ],
            [
             0.5555555555555556,
             "#d8576b"
            ],
            [
             0.6666666666666666,
             "#ed7953"
            ],
            [
             0.7777777777777778,
             "#fb9f3a"
            ],
            [
             0.8888888888888888,
             "#fdca26"
            ],
            [
             1,
             "#f0f921"
            ]
           ]
          },
          "colorway": [
           "#636efa",
           "#EF553B",
           "#00cc96",
           "#ab63fa",
           "#FFA15A",
           "#19d3f3",
           "#FF6692",
           "#B6E880",
           "#FF97FF",
           "#FECB52"
          ],
          "font": {
           "color": "#2a3f5f"
          },
          "geo": {
           "bgcolor": "white",
           "lakecolor": "white",
           "landcolor": "#E5ECF6",
           "showlakes": true,
           "showland": true,
           "subunitcolor": "white"
          },
          "hoverlabel": {
           "align": "left"
          },
          "hovermode": "closest",
          "mapbox": {
           "style": "light"
          },
          "paper_bgcolor": "white",
          "plot_bgcolor": "#E5ECF6",
          "polar": {
           "angularaxis": {
            "gridcolor": "white",
            "linecolor": "white",
            "ticks": ""
           },
           "bgcolor": "#E5ECF6",
           "radialaxis": {
            "gridcolor": "white",
            "linecolor": "white",
            "ticks": ""
           }
          },
          "scene": {
           "xaxis": {
            "backgroundcolor": "#E5ECF6",
            "gridcolor": "white",
            "gridwidth": 2,
            "linecolor": "white",
            "showbackground": true,
            "ticks": "",
            "zerolinecolor": "white"
           },
           "yaxis": {
            "backgroundcolor": "#E5ECF6",
            "gridcolor": "white",
            "gridwidth": 2,
            "linecolor": "white",
            "showbackground": true,
            "ticks": "",
            "zerolinecolor": "white"
           },
           "zaxis": {
            "backgroundcolor": "#E5ECF6",
            "gridcolor": "white",
            "gridwidth": 2,
            "linecolor": "white",
            "showbackground": true,
            "ticks": "",
            "zerolinecolor": "white"
           }
          },
          "shapedefaults": {
           "line": {
            "color": "#2a3f5f"
           }
          },
          "ternary": {
           "aaxis": {
            "gridcolor": "white",
            "linecolor": "white",
            "ticks": ""
           },
           "baxis": {
            "gridcolor": "white",
            "linecolor": "white",
            "ticks": ""
           },
           "bgcolor": "#E5ECF6",
           "caxis": {
            "gridcolor": "white",
            "linecolor": "white",
            "ticks": ""
           }
          },
          "title": {
           "x": 0.05
          },
          "xaxis": {
           "automargin": true,
           "gridcolor": "white",
           "linecolor": "white",
           "ticks": "",
           "title": {
            "standoff": 15
           },
           "zerolinecolor": "white",
           "zerolinewidth": 2
          },
          "yaxis": {
           "automargin": true,
           "gridcolor": "white",
           "linecolor": "white",
           "ticks": "",
           "title": {
            "standoff": 15
           },
           "zerolinecolor": "white",
           "zerolinewidth": 2
          }
         }
        }
       }
      }
     },
     "metadata": {}
    }
   ],
   "source": [
    "labels = ['1','2','3','4','5']\n",
    "values = score_bins.values\n",
    "\n",
    "# Use `hole` to create a donut-like pie chart\n",
    "fig = go.Figure(data=[go.Pie(labels=labels, values=values, hole=.3)])\n",
    "fig.show()"
   ]
  },
  {
   "cell_type": "code",
   "execution_count": 64,
   "metadata": {},
   "outputs": [],
   "source": [
    "missing = (df.score_total.isna().sum() / len(df.score_total))*100\n",
    "available = 100-missing\n",
    "\n",
    "#missing = \"{0:.1%}\".format(missing)\n",
    "#available = \"{0:.1%}\".format(available)"
   ]
  },
  {
   "cell_type": "code",
   "execution_count": 66,
   "metadata": {},
   "outputs": [
    {
     "output_type": "display_data",
     "data": {
      "application/vnd.plotly.v1+json": {
       "config": {
        "plotlyServerURL": "https://plot.ly"
       },
       "data": [
        {
         "alignmentgroup": "True",
         "hovertemplate": "color=available<br>x=%{x}<br>y=%{y}<extra></extra>",
         "legendgroup": "available",
         "marker": {
          "color": "#636efa"
         },
         "name": "available",
         "offsetgroup": "available",
         "orientation": "v",
         "showlegend": true,
         "textposition": "auto",
         "type": "bar",
         "x": [
          "score"
         ],
         "xaxis": "x",
         "y": [
          94.95166487647691
         ],
         "yaxis": "y"
        },
        {
         "alignmentgroup": "True",
         "hovertemplate": "color=missing<br>x=%{x}<br>y=%{y}<extra></extra>",
         "legendgroup": "missing",
         "marker": {
          "color": "#EF553B"
         },
         "name": "missing",
         "offsetgroup": "missing",
         "orientation": "v",
         "showlegend": true,
         "textposition": "auto",
         "type": "bar",
         "x": [
          "score"
         ],
         "xaxis": "x",
         "y": [
          5.048335123523094
         ],
         "yaxis": "y"
        }
       ],
       "layout": {
        "barmode": "relative",
        "legend": {
         "title": {
          "text": "color"
         },
         "tracegroupgap": 0
        },
        "margin": {
         "t": 60
        },
        "template": {
         "data": {
          "bar": [
           {
            "error_x": {
             "color": "#2a3f5f"
            },
            "error_y": {
             "color": "#2a3f5f"
            },
            "marker": {
             "line": {
              "color": "#E5ECF6",
              "width": 0.5
             }
            },
            "type": "bar"
           }
          ],
          "barpolar": [
           {
            "marker": {
             "line": {
              "color": "#E5ECF6",
              "width": 0.5
             }
            },
            "type": "barpolar"
           }
          ],
          "carpet": [
           {
            "aaxis": {
             "endlinecolor": "#2a3f5f",
             "gridcolor": "white",
             "linecolor": "white",
             "minorgridcolor": "white",
             "startlinecolor": "#2a3f5f"
            },
            "baxis": {
             "endlinecolor": "#2a3f5f",
             "gridcolor": "white",
             "linecolor": "white",
             "minorgridcolor": "white",
             "startlinecolor": "#2a3f5f"
            },
            "type": "carpet"
           }
          ],
          "choropleth": [
           {
            "colorbar": {
             "outlinewidth": 0,
             "ticks": ""
            },
            "type": "choropleth"
           }
          ],
          "contour": [
           {
            "colorbar": {
             "outlinewidth": 0,
             "ticks": ""
            },
            "colorscale": [
             [
              0,
              "#0d0887"
             ],
             [
              0.1111111111111111,
              "#46039f"
             ],
             [
              0.2222222222222222,
              "#7201a8"
             ],
             [
              0.3333333333333333,
              "#9c179e"
             ],
             [
              0.4444444444444444,
              "#bd3786"
             ],
             [
              0.5555555555555556,
              "#d8576b"
             ],
             [
              0.6666666666666666,
              "#ed7953"
             ],
             [
              0.7777777777777778,
              "#fb9f3a"
             ],
             [
              0.8888888888888888,
              "#fdca26"
             ],
             [
              1,
              "#f0f921"
             ]
            ],
            "type": "contour"
           }
          ],
          "contourcarpet": [
           {
            "colorbar": {
             "outlinewidth": 0,
             "ticks": ""
            },
            "type": "contourcarpet"
           }
          ],
          "heatmap": [
           {
            "colorbar": {
             "outlinewidth": 0,
             "ticks": ""
            },
            "colorscale": [
             [
              0,
              "#0d0887"
             ],
             [
              0.1111111111111111,
              "#46039f"
             ],
             [
              0.2222222222222222,
              "#7201a8"
             ],
             [
              0.3333333333333333,
              "#9c179e"
             ],
             [
              0.4444444444444444,
              "#bd3786"
             ],
             [
              0.5555555555555556,
              "#d8576b"
             ],
             [
              0.6666666666666666,
              "#ed7953"
             ],
             [
              0.7777777777777778,
              "#fb9f3a"
             ],
             [
              0.8888888888888888,
              "#fdca26"
             ],
             [
              1,
              "#f0f921"
             ]
            ],
            "type": "heatmap"
           }
          ],
          "heatmapgl": [
           {
            "colorbar": {
             "outlinewidth": 0,
             "ticks": ""
            },
            "colorscale": [
             [
              0,
              "#0d0887"
             ],
             [
              0.1111111111111111,
              "#46039f"
             ],
             [
              0.2222222222222222,
              "#7201a8"
             ],
             [
              0.3333333333333333,
              "#9c179e"
             ],
             [
              0.4444444444444444,
              "#bd3786"
             ],
             [
              0.5555555555555556,
              "#d8576b"
             ],
             [
              0.6666666666666666,
              "#ed7953"
             ],
             [
              0.7777777777777778,
              "#fb9f3a"
             ],
             [
              0.8888888888888888,
              "#fdca26"
             ],
             [
              1,
              "#f0f921"
             ]
            ],
            "type": "heatmapgl"
           }
          ],
          "histogram": [
           {
            "marker": {
             "colorbar": {
              "outlinewidth": 0,
              "ticks": ""
             }
            },
            "type": "histogram"
           }
          ],
          "histogram2d": [
           {
            "colorbar": {
             "outlinewidth": 0,
             "ticks": ""
            },
            "colorscale": [
             [
              0,
              "#0d0887"
             ],
             [
              0.1111111111111111,
              "#46039f"
             ],
             [
              0.2222222222222222,
              "#7201a8"
             ],
             [
              0.3333333333333333,
              "#9c179e"
             ],
             [
              0.4444444444444444,
              "#bd3786"
             ],
             [
              0.5555555555555556,
              "#d8576b"
             ],
             [
              0.6666666666666666,
              "#ed7953"
             ],
             [
              0.7777777777777778,
              "#fb9f3a"
             ],
             [
              0.8888888888888888,
              "#fdca26"
             ],
             [
              1,
              "#f0f921"
             ]
            ],
            "type": "histogram2d"
           }
          ],
          "histogram2dcontour": [
           {
            "colorbar": {
             "outlinewidth": 0,
             "ticks": ""
            },
            "colorscale": [
             [
              0,
              "#0d0887"
             ],
             [
              0.1111111111111111,
              "#46039f"
             ],
             [
              0.2222222222222222,
              "#7201a8"
             ],
             [
              0.3333333333333333,
              "#9c179e"
             ],
             [
              0.4444444444444444,
              "#bd3786"
             ],
             [
              0.5555555555555556,
              "#d8576b"
             ],
             [
              0.6666666666666666,
              "#ed7953"
             ],
             [
              0.7777777777777778,
              "#fb9f3a"
             ],
             [
              0.8888888888888888,
              "#fdca26"
             ],
             [
              1,
              "#f0f921"
             ]
            ],
            "type": "histogram2dcontour"
           }
          ],
          "mesh3d": [
           {
            "colorbar": {
             "outlinewidth": 0,
             "ticks": ""
            },
            "type": "mesh3d"
           }
          ],
          "parcoords": [
           {
            "line": {
             "colorbar": {
              "outlinewidth": 0,
              "ticks": ""
             }
            },
            "type": "parcoords"
           }
          ],
          "pie": [
           {
            "automargin": true,
            "type": "pie"
           }
          ],
          "scatter": [
           {
            "marker": {
             "colorbar": {
              "outlinewidth": 0,
              "ticks": ""
             }
            },
            "type": "scatter"
           }
          ],
          "scatter3d": [
           {
            "line": {
             "colorbar": {
              "outlinewidth": 0,
              "ticks": ""
             }
            },
            "marker": {
             "colorbar": {
              "outlinewidth": 0,
              "ticks": ""
             }
            },
            "type": "scatter3d"
           }
          ],
          "scattercarpet": [
           {
            "marker": {
             "colorbar": {
              "outlinewidth": 0,
              "ticks": ""
             }
            },
            "type": "scattercarpet"
           }
          ],
          "scattergeo": [
           {
            "marker": {
             "colorbar": {
              "outlinewidth": 0,
              "ticks": ""
             }
            },
            "type": "scattergeo"
           }
          ],
          "scattergl": [
           {
            "marker": {
             "colorbar": {
              "outlinewidth": 0,
              "ticks": ""
             }
            },
            "type": "scattergl"
           }
          ],
          "scattermapbox": [
           {
            "marker": {
             "colorbar": {
              "outlinewidth": 0,
              "ticks": ""
             }
            },
            "type": "scattermapbox"
           }
          ],
          "scatterpolar": [
           {
            "marker": {
             "colorbar": {
              "outlinewidth": 0,
              "ticks": ""
             }
            },
            "type": "scatterpolar"
           }
          ],
          "scatterpolargl": [
           {
            "marker": {
             "colorbar": {
              "outlinewidth": 0,
              "ticks": ""
             }
            },
            "type": "scatterpolargl"
           }
          ],
          "scatterternary": [
           {
            "marker": {
             "colorbar": {
              "outlinewidth": 0,
              "ticks": ""
             }
            },
            "type": "scatterternary"
           }
          ],
          "surface": [
           {
            "colorbar": {
             "outlinewidth": 0,
             "ticks": ""
            },
            "colorscale": [
             [
              0,
              "#0d0887"
             ],
             [
              0.1111111111111111,
              "#46039f"
             ],
             [
              0.2222222222222222,
              "#7201a8"
             ],
             [
              0.3333333333333333,
              "#9c179e"
             ],
             [
              0.4444444444444444,
              "#bd3786"
             ],
             [
              0.5555555555555556,
              "#d8576b"
             ],
             [
              0.6666666666666666,
              "#ed7953"
             ],
             [
              0.7777777777777778,
              "#fb9f3a"
             ],
             [
              0.8888888888888888,
              "#fdca26"
             ],
             [
              1,
              "#f0f921"
             ]
            ],
            "type": "surface"
           }
          ],
          "table": [
           {
            "cells": {
             "fill": {
              "color": "#EBF0F8"
             },
             "line": {
              "color": "white"
             }
            },
            "header": {
             "fill": {
              "color": "#C8D4E3"
             },
             "line": {
              "color": "white"
             }
            },
            "type": "table"
           }
          ]
         },
         "layout": {
          "annotationdefaults": {
           "arrowcolor": "#2a3f5f",
           "arrowhead": 0,
           "arrowwidth": 1
          },
          "coloraxis": {
           "colorbar": {
            "outlinewidth": 0,
            "ticks": ""
           }
          },
          "colorscale": {
           "diverging": [
            [
             0,
             "#8e0152"
            ],
            [
             0.1,
             "#c51b7d"
            ],
            [
             0.2,
             "#de77ae"
            ],
            [
             0.3,
             "#f1b6da"
            ],
            [
             0.4,
             "#fde0ef"
            ],
            [
             0.5,
             "#f7f7f7"
            ],
            [
             0.6,
             "#e6f5d0"
            ],
            [
             0.7,
             "#b8e186"
            ],
            [
             0.8,
             "#7fbc41"
            ],
            [
             0.9,
             "#4d9221"
            ],
            [
             1,
             "#276419"
            ]
           ],
           "sequential": [
            [
             0,
             "#0d0887"
            ],
            [
             0.1111111111111111,
             "#46039f"
            ],
            [
             0.2222222222222222,
             "#7201a8"
            ],
            [
             0.3333333333333333,
             "#9c179e"
            ],
            [
             0.4444444444444444,
             "#bd3786"
            ],
            [
             0.5555555555555556,
             "#d8576b"
            ],
            [
             0.6666666666666666,
             "#ed7953"
            ],
            [
             0.7777777777777778,
             "#fb9f3a"
            ],
            [
             0.8888888888888888,
             "#fdca26"
            ],
            [
             1,
             "#f0f921"
            ]
           ],
           "sequentialminus": [
            [
             0,
             "#0d0887"
            ],
            [
             0.1111111111111111,
             "#46039f"
            ],
            [
             0.2222222222222222,
             "#7201a8"
            ],
            [
             0.3333333333333333,
             "#9c179e"
            ],
            [
             0.4444444444444444,
             "#bd3786"
            ],
            [
             0.5555555555555556,
             "#d8576b"
            ],
            [
             0.6666666666666666,
             "#ed7953"
            ],
            [
             0.7777777777777778,
             "#fb9f3a"
            ],
            [
             0.8888888888888888,
             "#fdca26"
            ],
            [
             1,
             "#f0f921"
            ]
           ]
          },
          "colorway": [
           "#636efa",
           "#EF553B",
           "#00cc96",
           "#ab63fa",
           "#FFA15A",
           "#19d3f3",
           "#FF6692",
           "#B6E880",
           "#FF97FF",
           "#FECB52"
          ],
          "font": {
           "color": "#2a3f5f"
          },
          "geo": {
           "bgcolor": "white",
           "lakecolor": "white",
           "landcolor": "#E5ECF6",
           "showlakes": true,
           "showland": true,
           "subunitcolor": "white"
          },
          "hoverlabel": {
           "align": "left"
          },
          "hovermode": "closest",
          "mapbox": {
           "style": "light"
          },
          "paper_bgcolor": "white",
          "plot_bgcolor": "#E5ECF6",
          "polar": {
           "angularaxis": {
            "gridcolor": "white",
            "linecolor": "white",
            "ticks": ""
           },
           "bgcolor": "#E5ECF6",
           "radialaxis": {
            "gridcolor": "white",
            "linecolor": "white",
            "ticks": ""
           }
          },
          "scene": {
           "xaxis": {
            "backgroundcolor": "#E5ECF6",
            "gridcolor": "white",
            "gridwidth": 2,
            "linecolor": "white",
            "showbackground": true,
            "ticks": "",
            "zerolinecolor": "white"
           },
           "yaxis": {
            "backgroundcolor": "#E5ECF6",
            "gridcolor": "white",
            "gridwidth": 2,
            "linecolor": "white",
            "showbackground": true,
            "ticks": "",
            "zerolinecolor": "white"
           },
           "zaxis": {
            "backgroundcolor": "#E5ECF6",
            "gridcolor": "white",
            "gridwidth": 2,
            "linecolor": "white",
            "showbackground": true,
            "ticks": "",
            "zerolinecolor": "white"
           }
          },
          "shapedefaults": {
           "line": {
            "color": "#2a3f5f"
           }
          },
          "ternary": {
           "aaxis": {
            "gridcolor": "white",
            "linecolor": "white",
            "ticks": ""
           },
           "baxis": {
            "gridcolor": "white",
            "linecolor": "white",
            "ticks": ""
           },
           "bgcolor": "#E5ECF6",
           "caxis": {
            "gridcolor": "white",
            "linecolor": "white",
            "ticks": ""
           }
          },
          "title": {
           "x": 0.05
          },
          "xaxis": {
           "automargin": true,
           "gridcolor": "white",
           "linecolor": "white",
           "ticks": "",
           "title": {
            "standoff": 15
           },
           "zerolinecolor": "white",
           "zerolinewidth": 2
          },
          "yaxis": {
           "automargin": true,
           "gridcolor": "white",
           "linecolor": "white",
           "ticks": "",
           "title": {
            "standoff": 15
           },
           "zerolinecolor": "white",
           "zerolinewidth": 2
          }
         }
        },
        "xaxis": {
         "anchor": "y",
         "domain": [
          0,
          1
         ],
         "title": {
          "text": "x"
         }
        },
        "yaxis": {
         "anchor": "x",
         "domain": [
          0,
          1
         ],
         "title": {
          "text": "y"
         }
        }
       }
      }
     },
     "metadata": {}
    }
   ],
   "source": [
    "import plotly.express as px\n",
    "\n",
    "fig = px.bar(x=[\"score\",\"score\"], y=[available, missing], color=[\"available\", \"missing\"])\n"
   ]
  },
  {
   "cell_type": "code",
   "execution_count": 68,
   "metadata": {},
   "outputs": [],
   "source": [
    "df.sort_values(\"score_total\", inplace=True)"
   ]
  },
  {
   "cell_type": "code",
   "execution_count": 69,
   "metadata": {},
   "outputs": [
    {
     "output_type": "execute_result",
     "data": {
      "text/plain": [
       "            type    theme  year  account_number  public  \\\n",
       "2260  corporates  climate  2019           15046  public   \n",
       "2518  corporates  climate  2019           50820  public   \n",
       "2522  corporates  climate  2019           16114  public   \n",
       "2523  corporates  climate  2019           56165  public   \n",
       "2524  corporates  climate  2019           56447  public   \n",
       "2525  corporates  climate  2019          831636  public   \n",
       "2526  corporates  climate  2019           33293  public   \n",
       "2527  corporates  climate  2019           71319  public   \n",
       "2528  corporates  climate  2019           52378  public   \n",
       "2530  corporates  climate  2019           34079  public   \n",
       "\n",
       "                               entity                   country  \\\n",
       "2260      Precision Valve Corporation  United States of America   \n",
       "2518        PLATINUM GENERAL SERVICES  United States of America   \n",
       "2522        Safeguard Properties, LLC  United States of America   \n",
       "2523                      HARTE-HANKS  United States of America   \n",
       "2524                    Bry-lex, Inc.  United States of America   \n",
       "2525          ROAD SHOW LOGISTICS LLC  United States of America   \n",
       "2526  SKC Communication Products, LLC  United States of America   \n",
       "2527  Performance Technology Partners  United States of America   \n",
       "2528         Industrial Services Corp  United States of America   \n",
       "2530         HARVEST LAND CO-OP, INC.  United States of America   \n",
       "\n",
       "             region  s_score_1  s_score_2  ...  e_score_11  \\\n",
       "2260  North America        NaN        NaN  ...         1.0   \n",
       "2518  North America        NaN        NaN  ...         NaN   \n",
       "2522  North America        NaN        NaN  ...         NaN   \n",
       "2523  North America        NaN        NaN  ...         NaN   \n",
       "2524  North America        NaN        NaN  ...         NaN   \n",
       "2525  North America        NaN        NaN  ...         NaN   \n",
       "2526  North America        NaN        NaN  ...         NaN   \n",
       "2527  North America        NaN        NaN  ...         NaN   \n",
       "2528  North America        NaN        NaN  ...         NaN   \n",
       "2530  North America        NaN        NaN  ...         NaN   \n",
       "\n",
       "                       Country  alpha3code  s_score_total  c_score_total  \\\n",
       "2260  United States of America         USA            NaN            1.0   \n",
       "2518  United States of America         USA            NaN            1.0   \n",
       "2522  United States of America         USA            NaN            1.0   \n",
       "2523  United States of America         USA            NaN            1.0   \n",
       "2524  United States of America         USA            NaN            1.0   \n",
       "2525  United States of America         USA            NaN            1.0   \n",
       "2526  United States of America         USA            NaN            1.0   \n",
       "2527  United States of America         USA            NaN            1.0   \n",
       "2528  United States of America         USA            NaN            NaN   \n",
       "2530  United States of America         USA            NaN            1.0   \n",
       "\n",
       "      o_score_total  r_score_total  e_score_total  em_score_total  score_total  \n",
       "2260            1.0            1.0            1.0             NaN          1.0  \n",
       "2518            1.0            1.0            1.0             NaN          1.0  \n",
       "2522            1.0            1.0            1.0             NaN          1.0  \n",
       "2523            1.0            1.0            1.0             NaN          1.0  \n",
       "2524            1.0            1.0            1.0             NaN          1.0  \n",
       "2525            1.0            1.0            1.0             NaN          1.0  \n",
       "2526            1.0            1.0            1.0             NaN          1.0  \n",
       "2527            1.0            1.0            1.0             NaN          1.0  \n",
       "2528            1.0            1.0            1.0             NaN          1.0  \n",
       "2530            1.0            1.0            1.0             NaN          1.0  \n",
       "\n",
       "[10 rows x 51 columns]"
      ],
      "text/html": "<div>\n<style scoped>\n    .dataframe tbody tr th:only-of-type {\n        vertical-align: middle;\n    }\n\n    .dataframe tbody tr th {\n        vertical-align: top;\n    }\n\n    .dataframe thead th {\n        text-align: right;\n    }\n</style>\n<table border=\"1\" class=\"dataframe\">\n  <thead>\n    <tr style=\"text-align: right;\">\n      <th></th>\n      <th>type</th>\n      <th>theme</th>\n      <th>year</th>\n      <th>account_number</th>\n      <th>public</th>\n      <th>entity</th>\n      <th>country</th>\n      <th>region</th>\n      <th>s_score_1</th>\n      <th>s_score_2</th>\n      <th>...</th>\n      <th>e_score_11</th>\n      <th>Country</th>\n      <th>alpha3code</th>\n      <th>s_score_total</th>\n      <th>c_score_total</th>\n      <th>o_score_total</th>\n      <th>r_score_total</th>\n      <th>e_score_total</th>\n      <th>em_score_total</th>\n      <th>score_total</th>\n    </tr>\n  </thead>\n  <tbody>\n    <tr>\n      <th>2260</th>\n      <td>corporates</td>\n      <td>climate</td>\n      <td>2019</td>\n      <td>15046</td>\n      <td>public</td>\n      <td>Precision Valve Corporation</td>\n      <td>United States of America</td>\n      <td>North America</td>\n      <td>NaN</td>\n      <td>NaN</td>\n      <td>...</td>\n      <td>1.0</td>\n      <td>United States of America</td>\n      <td>USA</td>\n      <td>NaN</td>\n      <td>1.0</td>\n      <td>1.0</td>\n      <td>1.0</td>\n      <td>1.0</td>\n      <td>NaN</td>\n      <td>1.0</td>\n    </tr>\n    <tr>\n      <th>2518</th>\n      <td>corporates</td>\n      <td>climate</td>\n      <td>2019</td>\n      <td>50820</td>\n      <td>public</td>\n      <td>PLATINUM GENERAL SERVICES</td>\n      <td>United States of America</td>\n      <td>North America</td>\n      <td>NaN</td>\n      <td>NaN</td>\n      <td>...</td>\n      <td>NaN</td>\n      <td>United States of America</td>\n      <td>USA</td>\n      <td>NaN</td>\n      <td>1.0</td>\n      <td>1.0</td>\n      <td>1.0</td>\n      <td>1.0</td>\n      <td>NaN</td>\n      <td>1.0</td>\n    </tr>\n    <tr>\n      <th>2522</th>\n      <td>corporates</td>\n      <td>climate</td>\n      <td>2019</td>\n      <td>16114</td>\n      <td>public</td>\n      <td>Safeguard Properties, LLC</td>\n      <td>United States of America</td>\n      <td>North America</td>\n      <td>NaN</td>\n      <td>NaN</td>\n      <td>...</td>\n      <td>NaN</td>\n      <td>United States of America</td>\n      <td>USA</td>\n      <td>NaN</td>\n      <td>1.0</td>\n      <td>1.0</td>\n      <td>1.0</td>\n      <td>1.0</td>\n      <td>NaN</td>\n      <td>1.0</td>\n    </tr>\n    <tr>\n      <th>2523</th>\n      <td>corporates</td>\n      <td>climate</td>\n      <td>2019</td>\n      <td>56165</td>\n      <td>public</td>\n      <td>HARTE-HANKS</td>\n      <td>United States of America</td>\n      <td>North America</td>\n      <td>NaN</td>\n      <td>NaN</td>\n      <td>...</td>\n      <td>NaN</td>\n      <td>United States of America</td>\n      <td>USA</td>\n      <td>NaN</td>\n      <td>1.0</td>\n      <td>1.0</td>\n      <td>1.0</td>\n      <td>1.0</td>\n      <td>NaN</td>\n      <td>1.0</td>\n    </tr>\n    <tr>\n      <th>2524</th>\n      <td>corporates</td>\n      <td>climate</td>\n      <td>2019</td>\n      <td>56447</td>\n      <td>public</td>\n      <td>Bry-lex, Inc.</td>\n      <td>United States of America</td>\n      <td>North America</td>\n      <td>NaN</td>\n      <td>NaN</td>\n      <td>...</td>\n      <td>NaN</td>\n      <td>United States of America</td>\n      <td>USA</td>\n      <td>NaN</td>\n      <td>1.0</td>\n      <td>1.0</td>\n      <td>1.0</td>\n      <td>1.0</td>\n      <td>NaN</td>\n      <td>1.0</td>\n    </tr>\n    <tr>\n      <th>2525</th>\n      <td>corporates</td>\n      <td>climate</td>\n      <td>2019</td>\n      <td>831636</td>\n      <td>public</td>\n      <td>ROAD SHOW LOGISTICS LLC</td>\n      <td>United States of America</td>\n      <td>North America</td>\n      <td>NaN</td>\n      <td>NaN</td>\n      <td>...</td>\n      <td>NaN</td>\n      <td>United States of America</td>\n      <td>USA</td>\n      <td>NaN</td>\n      <td>1.0</td>\n      <td>1.0</td>\n      <td>1.0</td>\n      <td>1.0</td>\n      <td>NaN</td>\n      <td>1.0</td>\n    </tr>\n    <tr>\n      <th>2526</th>\n      <td>corporates</td>\n      <td>climate</td>\n      <td>2019</td>\n      <td>33293</td>\n      <td>public</td>\n      <td>SKC Communication Products, LLC</td>\n      <td>United States of America</td>\n      <td>North America</td>\n      <td>NaN</td>\n      <td>NaN</td>\n      <td>...</td>\n      <td>NaN</td>\n      <td>United States of America</td>\n      <td>USA</td>\n      <td>NaN</td>\n      <td>1.0</td>\n      <td>1.0</td>\n      <td>1.0</td>\n      <td>1.0</td>\n      <td>NaN</td>\n      <td>1.0</td>\n    </tr>\n    <tr>\n      <th>2527</th>\n      <td>corporates</td>\n      <td>climate</td>\n      <td>2019</td>\n      <td>71319</td>\n      <td>public</td>\n      <td>Performance Technology Partners</td>\n      <td>United States of America</td>\n      <td>North America</td>\n      <td>NaN</td>\n      <td>NaN</td>\n      <td>...</td>\n      <td>NaN</td>\n      <td>United States of America</td>\n      <td>USA</td>\n      <td>NaN</td>\n      <td>1.0</td>\n      <td>1.0</td>\n      <td>1.0</td>\n      <td>1.0</td>\n      <td>NaN</td>\n      <td>1.0</td>\n    </tr>\n    <tr>\n      <th>2528</th>\n      <td>corporates</td>\n      <td>climate</td>\n      <td>2019</td>\n      <td>52378</td>\n      <td>public</td>\n      <td>Industrial Services Corp</td>\n      <td>United States of America</td>\n      <td>North America</td>\n      <td>NaN</td>\n      <td>NaN</td>\n      <td>...</td>\n      <td>NaN</td>\n      <td>United States of America</td>\n      <td>USA</td>\n      <td>NaN</td>\n      <td>NaN</td>\n      <td>1.0</td>\n      <td>1.0</td>\n      <td>1.0</td>\n      <td>NaN</td>\n      <td>1.0</td>\n    </tr>\n    <tr>\n      <th>2530</th>\n      <td>corporates</td>\n      <td>climate</td>\n      <td>2019</td>\n      <td>34079</td>\n      <td>public</td>\n      <td>HARVEST LAND CO-OP, INC.</td>\n      <td>United States of America</td>\n      <td>North America</td>\n      <td>NaN</td>\n      <td>NaN</td>\n      <td>...</td>\n      <td>NaN</td>\n      <td>United States of America</td>\n      <td>USA</td>\n      <td>NaN</td>\n      <td>1.0</td>\n      <td>1.0</td>\n      <td>1.0</td>\n      <td>1.0</td>\n      <td>NaN</td>\n      <td>1.0</td>\n    </tr>\n  </tbody>\n</table>\n<p>10 rows × 51 columns</p>\n</div>"
     },
     "metadata": {},
     "execution_count": 69
    }
   ],
   "source": [
    "df.head(10)"
   ]
  }
 ]
}